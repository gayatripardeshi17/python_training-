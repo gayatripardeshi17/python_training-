{
  "nbformat": 4,
  "nbformat_minor": 0,
  "metadata": {
    "colab": {
      "provenance": []
    },
    "kernelspec": {
      "name": "python3",
      "display_name": "Python 3"
    },
    "language_info": {
      "name": "python"
    }
  },
  "cells": [
    {
      "cell_type": "markdown",
      "source": [
        "# **P&T Day 1**"
      ],
      "metadata": {
        "id": "9_qmN776JpWZ"
      }
    },
    {
      "cell_type": "code",
      "execution_count": null,
      "metadata": {
        "colab": {
          "base_uri": "https://localhost:8080/"
        },
        "id": "vJLCMJu9JZEx",
        "outputId": "c2068293-7a0a-4301-9911-101a40afd645"
      },
      "outputs": [
        {
          "output_type": "stream",
          "name": "stdout",
          "text": [
            "hello\n"
          ]
        }
      ],
      "source": [
        "\"gayatri pardeshi\"\n",
        "print(\"hello\")"
      ]
    },
    {
      "cell_type": "code",
      "source": [
        "print('''hello everyone ,  Python is a high-level, interpreted, object-oriented programming language that is easy to learn and use.\n",
        "It has many applications in web development, data science, automation, CAD, AI''')"
      ],
      "metadata": {
        "colab": {
          "base_uri": "https://localhost:8080/"
        },
        "id": "mKbHdI4dJdXk",
        "outputId": "be760fa9-1f9c-4207-b422-56f851ab61ac"
      },
      "execution_count": null,
      "outputs": [
        {
          "output_type": "stream",
          "name": "stdout",
          "text": [
            "hello everyone ,  Python is a high-level, interpreted, object-oriented programming language that is easy to learn and use. \n",
            "It has many applications in web development, data science, automation, CAD, AI\n"
          ]
        }
      ]
    },
    {
      "cell_type": "markdown",
      "source": [
        "# **variables**"
      ],
      "metadata": {
        "id": "YSOug4QsLKP3"
      }
    },
    {
      "cell_type": "markdown",
      "source": [
        "int a,b; #declaration\n",
        "\n",
        "a=b , b=10 == # Initialization"
      ],
      "metadata": {
        "id": "1ikivvOpLvMi"
      }
    },
    {
      "cell_type": "code",
      "source": [
        "a=20   #Initialization"
      ],
      "metadata": {
        "id": "QptBn0KAJdab"
      },
      "execution_count": null,
      "outputs": []
    },
    {
      "cell_type": "markdown",
      "source": [
        "##Rules of variables"
      ],
      "metadata": {
        "id": "TIS6Dq6KM2Tc"
      }
    },
    {
      "cell_type": "code",
      "source": [
        "# not use number at starting\n",
        "#digit 0 to 9\n",
        "# alphabets A-Z\n",
        "#not unse special characters\n",
        "#only use  (_) underscore\n",
        "\n",
        "\n",
        " #define by num1,num2, like that that will be easy to understand\n",
        "num1=10\n",
        "num2=20\n",
        "print(num1+num2)"
      ],
      "metadata": {
        "colab": {
          "base_uri": "https://localhost:8080/"
        },
        "id": "pdaxhcTCJddM",
        "outputId": "b1e57a23-a2c6-40c9-b0e6-da9450e6e029"
      },
      "execution_count": null,
      "outputs": [
        {
          "output_type": "stream",
          "name": "stdout",
          "text": [
            "30\n"
          ]
        }
      ]
    },
    {
      "cell_type": "code",
      "source": [
        "num1=10\n",
        "num2=20\n",
        "sum=num1+num2\n",
        "print(\"sum of 2 no is -- \",sum)\n"
      ],
      "metadata": {
        "colab": {
          "base_uri": "https://localhost:8080/"
        },
        "id": "dVEf392xJdge",
        "outputId": "a844ddc4-d883-4186-f7a2-fecc9719aa0d"
      },
      "execution_count": null,
      "outputs": [
        {
          "output_type": "stream",
          "name": "stdout",
          "text": [
            "sum of 2 no is --  30\n"
          ]
        }
      ]
    },
    {
      "cell_type": "markdown",
      "source": [
        "# Identifier\n",
        "it gives rules to variables, function , class"
      ],
      "metadata": {
        "id": "_uknBpgAPKG1"
      }
    },
    {
      "cell_type": "code",
      "source": [],
      "metadata": {
        "id": "EeUNuis_Jdj6"
      },
      "execution_count": null,
      "outputs": []
    },
    {
      "cell_type": "markdown",
      "source": [
        "# **Operators in python**"
      ],
      "metadata": {
        "id": "gaBj-S2R0jbR"
      }
    },
    {
      "cell_type": "code",
      "source": [
        "Arithmetic operators  :-  +,-,*,/,%,**,//\n",
        "Assignment operators :- =,+=,-=,*=,/=,%=,//=\n",
        "Comparison operators :- ==,!=,<,>,<=,>=\n",
        "Logical operators :- and,or,not()\n",
        "Assignment operators\n",
        "Identity operators\n",
        "Membership operators\n",
        "Bitwise operators :- &,|,^,~,<<,>>"
      ],
      "metadata": {
        "id": "hBlRIB8c3zX0"
      },
      "execution_count": null,
      "outputs": []
    },
    {
      "cell_type": "code",
      "source": [
        "#modulos =% gives reminder\n",
        "10/2"
      ],
      "metadata": {
        "id": "u7_reS7KJdqk",
        "colab": {
          "base_uri": "https://localhost:8080/"
        },
        "outputId": "65c905e9-7726-4ca8-c10b-320100e95dc7"
      },
      "execution_count": null,
      "outputs": [
        {
          "output_type": "execute_result",
          "data": {
            "text/plain": [
              "5.0"
            ]
          },
          "metadata": {},
          "execution_count": 1
        }
      ]
    },
    {
      "cell_type": "code",
      "source": [
        "10//2   # floor division"
      ],
      "metadata": {
        "colab": {
          "base_uri": "https://localhost:8080/"
        },
        "id": "3lIS5e4-1IE2",
        "outputId": "8383b98c-ba1e-4018-dba5-28fa75e255de"
      },
      "execution_count": null,
      "outputs": [
        {
          "output_type": "execute_result",
          "data": {
            "text/plain": [
              "5"
            ]
          },
          "metadata": {},
          "execution_count": 2
        }
      ]
    },
    {
      "cell_type": "code",
      "source": [
        "a=10\n",
        "a+=1  #short hand oprator\n",
        "print(a)"
      ],
      "metadata": {
        "colab": {
          "base_uri": "https://localhost:8080/"
        },
        "id": "aCfQkE9G1QXO",
        "outputId": "05ba5a5f-6cd1-4f31-a696-c3a6b7aa4dc2"
      },
      "execution_count": null,
      "outputs": [
        {
          "output_type": "stream",
          "name": "stdout",
          "text": [
            "11\n"
          ]
        }
      ]
    },
    {
      "cell_type": "code",
      "source": [
        "a=20\n",
        "b=20\n",
        "if a!=b:\n",
        "  print(\"a is not equal to b\")"
      ],
      "metadata": {
        "id": "e8u5qgN71iCd"
      },
      "execution_count": null,
      "outputs": []
    },
    {
      "cell_type": "code",
      "source": [
        " 3&2"
      ],
      "metadata": {
        "colab": {
          "base_uri": "https://localhost:8080/"
        },
        "id": "APIdK-rh1iFg",
        "outputId": "8f7a26de-f458-48fd-eeea-c02eb45d9734"
      },
      "execution_count": null,
      "outputs": [
        {
          "output_type": "execute_result",
          "data": {
            "text/plain": [
              "2"
            ]
          },
          "metadata": {},
          "execution_count": 7
        }
      ]
    },
    {
      "cell_type": "code",
      "source": [
        "a=10\n",
        "b=20\n",
        "sum =a + b\n",
        "print(sum)"
      ],
      "metadata": {
        "colab": {
          "base_uri": "https://localhost:8080/"
        },
        "id": "AufycqCf1iIW",
        "outputId": "4864eb66-d580-4a45-f366-33d3a6f9eab5"
      },
      "execution_count": null,
      "outputs": [
        {
          "output_type": "stream",
          "name": "stdout",
          "text": [
            "30\n"
          ]
        }
      ]
    },
    {
      "cell_type": "code",
      "source": [
        "num = 10+20\n",
        "print(num)"
      ],
      "metadata": {
        "colab": {
          "base_uri": "https://localhost:8080/"
        },
        "id": "MW5EKDMf1iLU",
        "outputId": "67ab79e8-9416-41cf-99f5-b5792825724a"
      },
      "execution_count": null,
      "outputs": [
        {
          "output_type": "stream",
          "name": "stdout",
          "text": [
            "30\n"
          ]
        }
      ]
    },
    {
      "cell_type": "code",
      "source": [
        "num=20-10\n",
        "print(num)"
      ],
      "metadata": {
        "colab": {
          "base_uri": "https://localhost:8080/"
        },
        "id": "GQ6Ud1hz1iOr",
        "outputId": "2f4755f7-f4c4-4ec0-8ce8-3f9a63b81248"
      },
      "execution_count": null,
      "outputs": [
        {
          "output_type": "stream",
          "name": "stdout",
          "text": [
            "10\n"
          ]
        }
      ]
    },
    {
      "cell_type": "code",
      "source": [
        "~3   #-ve start from 0 -1,-2"
      ],
      "metadata": {
        "colab": {
          "base_uri": "https://localhost:8080/"
        },
        "id": "e1-mf9Fv1iRz",
        "outputId": "09f39da5-bdf4-4e14-abc4-80929f235d0e"
      },
      "execution_count": null,
      "outputs": [
        {
          "output_type": "execute_result",
          "data": {
            "text/plain": [
              "-4"
            ]
          },
          "metadata": {},
          "execution_count": 11
        }
      ]
    },
    {
      "cell_type": "code",
      "source": [
        "~(-4) # start form 0 ,1,2,3"
      ],
      "metadata": {
        "colab": {
          "base_uri": "https://localhost:8080/"
        },
        "id": "nBjVMoID1iVQ",
        "outputId": "9816f25b-7617-41c2-b22c-b31255847c0d"
      },
      "execution_count": null,
      "outputs": [
        {
          "output_type": "execute_result",
          "data": {
            "text/plain": [
              "3"
            ]
          },
          "metadata": {},
          "execution_count": 12
        }
      ]
    },
    {
      "cell_type": "code",
      "source": [
        "a=b =20\n",
        "print(a)\n",
        "print(b)"
      ],
      "metadata": {
        "colab": {
          "base_uri": "https://localhost:8080/"
        },
        "id": "6LHLsyIG4lf4",
        "outputId": "c6ac1f40-073a-49bd-9694-01ccdb903698"
      },
      "execution_count": null,
      "outputs": [
        {
          "output_type": "stream",
          "name": "stdout",
          "text": [
            "20\n",
            "20\n"
          ]
        }
      ]
    },
    {
      "cell_type": "code",
      "source": [
        "# prompt: swapping program\n",
        "\n",
        "# Swapping two numbers without using a temporary variable\n",
        "\n",
        "num1 = 10\n",
        "num2 = 20\n",
        "\n",
        "print(\"Before swapping:\")\n",
        "print(\"num1 =\", num1)\n",
        "print(\"num2 =\", num2)\n",
        "\n",
        "num1 = num1 + num2  # num1 becomes 30\n",
        "num2 = num1 - num2  # num2 becomes 10\n",
        "num1 = num1 - num2  # num1 becomes 20\n",
        "\n",
        "print(\"\\nAfter swapping:\")\n",
        "print(\"num1 =\", num1)\n",
        "print(\"num2 =\", num2)"
      ],
      "metadata": {
        "id": "PtAwF7_041nG"
      },
      "execution_count": null,
      "outputs": []
    },
    {
      "cell_type": "code",
      "source": [
        "a,b=30,40\n",
        "a,b=b,a\n",
        "print(a)\n",
        "print(b)"
      ],
      "metadata": {
        "colab": {
          "base_uri": "https://localhost:8080/"
        },
        "id": "ri1eFdaQ41qN",
        "outputId": "063c0b03-2757-4a48-9021-989691f13e74"
      },
      "execution_count": null,
      "outputs": [
        {
          "output_type": "stream",
          "name": "stdout",
          "text": [
            "40\n",
            "30\n"
          ]
        }
      ]
    },
    {
      "cell_type": "code",
      "source": [
        "#with temporary  veriable\n",
        "a,b=30,40\n",
        "\n",
        "t=a\n",
        "a=b\n",
        "b=t\n",
        "print(a)\n",
        "print(b)"
      ],
      "metadata": {
        "colab": {
          "base_uri": "https://localhost:8080/"
        },
        "id": "8Zk5178G41s0",
        "outputId": "f210dd0f-53a1-4169-e7ce-777fd8c289cf"
      },
      "execution_count": null,
      "outputs": [
        {
          "output_type": "stream",
          "name": "stdout",
          "text": [
            "40\n",
            "30\n"
          ]
        }
      ]
    },
    {
      "cell_type": "code",
      "source": [
        "N = int(input(\" enter the number:\"))\n",
        "if N > 0:\n",
        "    print(N, \"is positive\") # Indented this line\n",
        "elif N < 0:\n",
        "    print(N, \"is negative\") # Indented this line and corrected \"nevet\" to \"negative\"\n",
        "else:\n",
        "    print(N, \"is zero\") # Indented this line"
      ],
      "metadata": {
        "id": "Jkb00oyQ41wU",
        "colab": {
          "base_uri": "https://localhost:8080/"
        },
        "outputId": "467ab004-c84d-47fd-b035-dae8ebeba483"
      },
      "execution_count": null,
      "outputs": [
        {
          "output_type": "stream",
          "name": "stdout",
          "text": [
            " enter the number:5\n",
            "5 is positive\n"
          ]
        }
      ]
    },
    {
      "cell_type": "code",
      "source": [
        "total=int(input(\"enter the total marks==\"))\n",
        "percentage=(total*100)/500\n",
        "print(\"Percentage:\", percentage)\n",
        "if percentage>=60:\n",
        "  print(\"first\")\n",
        "elif 50<=percentage<60:\n",
        "  print(\"second\")\n",
        "elif 40<=percentage<50:\n",
        "  print(\"pass\")\n",
        "elif percentage<40:\n",
        "    print(\"better\")\n",
        "\n",
        "\n"
      ],
      "metadata": {
        "id": "WmrnrsuH9QtX",
        "colab": {
          "base_uri": "https://localhost:8080/"
        },
        "outputId": "5b23345e-3354-4d70-c128-9661ba3d60c4"
      },
      "execution_count": null,
      "outputs": [
        {
          "output_type": "stream",
          "name": "stdout",
          "text": [
            "enter the total marks==50\n",
            "Percentage: 10.0\n",
            "better\n"
          ]
        }
      ]
    },
    {
      "cell_type": "code",
      "source": [
        "# prompt: # prompt: agar 5 lakh payment hai to 5% tax jayenga to .and tax 5 5 percentage se badana hai above 30 tak karo tax badana hai   . give me simple code . without fuction\n",
        "\n",
        "payment = float(input(\"Enter the payment amount: \"))\n",
        "\n",
        "if payment >= 500000:\n",
        "  tax = 0.05 * payment\n",
        "  if payment > 3000000:\n",
        "    tax = 0.30 * payment #tax increased to 30% above 30lakhs\n",
        "elif payment >= 300000:\n",
        "  tax = 0.05 * payment\n",
        "else:\n",
        "  tax = 0\n",
        "\n",
        "print(f\"Tax to be paid: {tax}\")"
      ],
      "metadata": {
        "id": "i6Lq7xQq9Q2t",
        "colab": {
          "base_uri": "https://localhost:8080/"
        },
        "outputId": "f09303b0-095e-4d6d-dc33-58166b4b5337"
      },
      "execution_count": null,
      "outputs": [
        {
          "output_type": "stream",
          "name": "stdout",
          "text": [
            "Enter the payment amount: 3000000\n",
            "Tax to be paid: 150000.0\n"
          ]
        }
      ]
    },
    {
      "cell_type": "code",
      "source": [],
      "metadata": {
        "id": "7zdvFhop9Q6N"
      },
      "execution_count": null,
      "outputs": []
    },
    {
      "cell_type": "code",
      "source": [
        "payment = float(input(\"Enter the payment amount: \"))\n",
        "\n",
        "if payment >= 300000:\n",
        "  tax = 0.05 * payment\n",
        "else:\n",
        "  tax = 0\n",
        "\n",
        "print(f\"Tax to be paid: {tax}\")"
      ],
      "metadata": {
        "id": "kS3WYoDH9RDE"
      },
      "execution_count": null,
      "outputs": []
    },
    {
      "cell_type": "code",
      "source": [
        "a = int(input(\"Enter the first number: \"))\n",
        "b= int(input(\"Enter the second number: \"))\n",
        "c = int(input(\"Enter the third number: \"))\n",
        "if(a>b and a<c) or (a<b and a>c):\n",
        "  print(a)\n",
        "elif(b>a and b<c) or (b<a and b>c):\n",
        "  print(b)\n",
        "else:\n",
        "  print(c)\n",
        "1\n"
      ],
      "metadata": {
        "id": "9n1MD7cH9RMw",
        "colab": {
          "base_uri": "https://localhost:8080/"
        },
        "outputId": "8f8d9118-d22b-4123-9f44-888ce2e8f547"
      },
      "execution_count": null,
      "outputs": [
        {
          "output_type": "stream",
          "name": "stdout",
          "text": [
            "Enter the first number: 30\n",
            "Enter the second number: 50\n",
            "Enter the third number: 100\n",
            "50\n"
          ]
        }
      ]
    },
    {
      "cell_type": "code",
      "source": [
        "\n",
        "a = int(input(\"Enter the first number: \"))\n",
        "b= int(input(\"Enter the second number: \"))\n",
        "c = int(input(\"Enter the third number: \"))\n",
        "second_larget = a+b+c-max(a,b,c)-min(a,b,c)\n",
        "print(second_larget)\n"
      ],
      "metadata": {
        "id": "Nc_7o8zx9RYv",
        "colab": {
          "base_uri": "https://localhost:8080/"
        },
        "outputId": "47b745ad-d8b3-4772-bc60-baf34a99e599"
      },
      "execution_count": null,
      "outputs": [
        {
          "output_type": "stream",
          "name": "stdout",
          "text": [
            "Enter the first number: 30\n",
            "Enter the second number: 60\n",
            "Enter the third number: 20\n",
            "30\n"
          ]
        }
      ]
    },
    {
      "cell_type": "code",
      "source": [
        "\n",
        "\n",
        "n = int(input(\"Enter a number: \"))\n",
        "\n",
        "i = 0\n",
        "power_of_4 = 1\n",
        "while power_of_4 < n:\n",
        "    power_of_4 *= 4\n",
        "    i += 1\n",
        "\n",
        "print(power_of_4 == n)"
      ],
      "metadata": {
        "colab": {
          "base_uri": "https://localhost:8080/"
        },
        "id": "dXDfBIElNFHr",
        "outputId": "8565c93e-d465-4d24-9d7b-c305431a5693"
      },
      "execution_count": null,
      "outputs": [
        {
          "output_type": "stream",
          "name": "stdout",
          "text": [
            "Enter a number: 1\n",
            "True\n"
          ]
        }
      ]
    },
    {
      "cell_type": "code",
      "source": [
        "# prompt: n = int(input(\"Enter a number: \"))\n",
        "# i = 0\n",
        "# power_of_4 = 1\n",
        "# while power_of_4 < n:\n",
        "#     power_of_4 *= 4\n",
        "#     i += 1\n",
        "# print(power_of_4 == n).give this in if else\n",
        "\n",
        "n = int(input(\"Enter a number: \"))\n",
        "\n",
        "i = 0\n",
        "power_of_4 = 1\n",
        "while power_of_4 < n:\n",
        "    power_of_4 *= 4\n",
        "    i += 1\n",
        "\n",
        "if power_of_4 == n:\n",
        "    print(True)\n",
        "else:\n",
        "False"
      ],
      "metadata": {
        "id": "_B0GoOtcPff0"
      },
      "execution_count": null,
      "outputs": []
    },
    {
      "cell_type": "code",
      "source": [
        "n=int(input(\"enter the number\"))\n",
        "if"
      ],
      "metadata": {
        "id": "A6XjUFytNj1a"
      },
      "execution_count": null,
      "outputs": []
    },
    {
      "cell_type": "code",
      "source": [
        "num=int(input(\"enter a number\"))\n",
        "a=pow(4,num)\n",
        "if a%4==0:\n",
        "  print(\"True\")\n",
        "else:\n",
        "  print(\"False\")"
      ],
      "metadata": {
        "colab": {
          "base_uri": "https://localhost:8080/"
        },
        "id": "Vo0TTRPoNj4T",
        "outputId": "b7fcaf01-badf-4bf7-9535-24465e3b337e"
      },
      "execution_count": null,
      "outputs": [
        {
          "output_type": "stream",
          "name": "stdout",
          "text": [
            "enter a number8\n",
            "True\n"
          ]
        }
      ]
    },
    {
      "cell_type": "code",
      "source": [
        "num=int(input(\"enter a number\"))\n",
        "if(num//4)%4==0 and num>0: # perfect remender aana chahiye\n",
        "  print(\"True\")\n",
        "elif num==1:\n",
        "  print(\"true\")\n",
        "else:\n",
        "  print(\"False\")"
      ],
      "metadata": {
        "colab": {
          "base_uri": "https://localhost:8080/"
        },
        "id": "o4WcN7eMNj73",
        "outputId": "8678278e-87bc-4336-b04d-6a4de92bd5b0"
      },
      "execution_count": null,
      "outputs": [
        {
          "output_type": "stream",
          "name": "stdout",
          "text": [
            "enter a number6\n",
            "False\n"
          ]
        }
      ]
    },
    {
      "cell_type": "markdown",
      "source": [
        "# **Day 2**"
      ],
      "metadata": {
        "id": "lAWJ9l3zIXjW"
      }
    },
    {
      "cell_type": "markdown",
      "source": [
        "# **switch case in python done with the help of conditional statements **"
      ],
      "metadata": {
        "id": "RCmtFGmUJJ6U"
      }
    },
    {
      "cell_type": "code",
      "source": [
        "ch=int(input(\"enter a number\"))\n",
        "if ch==1:\n",
        "  print(\"monday\")\n",
        "elif ch==2:\n",
        "  print(\"tuesday\")\n",
        "elif ch==3:\n",
        "  print(\"wednesday\")\n",
        "elif ch==4:\n",
        "  print(\"thursday\")\n",
        "elif ch==5:\n",
        "  print(\"friday\")\n",
        "elif ch==6:\n",
        "  print(\"saturday\")\n",
        "elif ch==7:\n",
        "  print(\"sunday\")\n",
        "else:\n",
        "  print(\"invalid\")\n",
        "\n"
      ],
      "metadata": {
        "colab": {
          "base_uri": "https://localhost:8080/"
        },
        "id": "dmohqMKCJfgl",
        "outputId": "baf0ab23-cef0-4359-b204-fdb29c9d9efd"
      },
      "execution_count": null,
      "outputs": [
        {
          "output_type": "stream",
          "name": "stdout",
          "text": [
            "enter a number2\n",
            "tuesday\n"
          ]
        }
      ]
    },
    {
      "cell_type": "code",
      "source": [
        "month_number=int(input(\"enter the month number\"))\n",
        "match month_number:\n",
        "  case 1:\n",
        "    print(\"january\")\n",
        "  case 2:\n",
        "    print(\"february\")\n",
        "  case 3:\n",
        "    print(\"march\")\n",
        "  case 4:\n",
        "    print(\"april\")\n",
        "  case 5:\n",
        "    print(\"may\")\n",
        "  case 6:\n",
        "    print(\"june\")\n",
        "  case 7:\n",
        "    print(\"july\")\n",
        "  case 8:\n",
        "    print(\"august\")\n",
        "  case 9:\n",
        "    print(\"september\")\n",
        "  case 10:\n",
        "    print(\"october\")\n",
        "  case 11:\n",
        "    print(\"november\")\n",
        "  case 12:\n",
        "    print(\"december\")\n",
        "  case _:\n",
        "    print(\"invalid choice\")\n",
        "\n"
      ],
      "metadata": {
        "id": "xqC32oALNkFp",
        "colab": {
          "base_uri": "https://localhost:8080/"
        },
        "outputId": "b4a02f52-8379-484c-e1d1-a272b1938e49"
      },
      "execution_count": null,
      "outputs": [
        {
          "output_type": "stream",
          "name": "stdout",
          "text": [
            "enter the month number3\n",
            "march\n"
          ]
        }
      ]
    },
    {
      "cell_type": "markdown",
      "source": [
        "# **when we want only one print**"
      ],
      "metadata": {
        "id": "mexQDmHwKRu7"
      }
    },
    {
      "cell_type": "code",
      "source": [
        "month_number=int(input(\"enter the month number : \"))\n",
        "match month_number:\n",
        "  case 1:\n",
        "    m_name=\"january\"\n",
        "  case 2:\n",
        "    m_name=\"february\"\n",
        "  case 3:\n",
        "    m_name=\"march\"\n",
        "  case 4:\n",
        "    m_name=\"april\"\n",
        "  case 5:\n",
        "    m_name=\"may\"\n",
        "  case 6:\n",
        "    m_name=\"june\"\n",
        "  case 7:\n",
        "   m_name=\"july\"\n",
        "  case 8:\n",
        "   m_name=\"august\"\n",
        "  case 9:\n",
        "   m_name=\"september\"\n",
        "  case 10:\n",
        "    m_name=\"october\"\n",
        "  case 11:\n",
        "    m_name=\"november\"\n",
        "  case 12:\n",
        "    m_name=\"december\"\n",
        "  case _:\n",
        "    print(\"invalid choice\")\n",
        "print(m_name)\n",
        "\n"
      ],
      "metadata": {
        "id": "BdoL6LJ_NkJS",
        "colab": {
          "base_uri": "https://localhost:8080/"
        },
        "outputId": "0ad713b7-4ff7-4f03-bb81-08afcb6c8520"
      },
      "execution_count": null,
      "outputs": [
        {
          "output_type": "stream",
          "name": "stdout",
          "text": [
            "enter the month number : 3\n",
            "march\n"
          ]
        }
      ]
    },
    {
      "cell_type": "markdown",
      "source": [
        "# **friends food center**"
      ],
      "metadata": {
        "id": "R087wunWLONI"
      }
    },
    {
      "cell_type": "code",
      "source": [
        "yes_no=(input(\"want to order : \"))\n",
        "if yes_no==\"yes\":\n",
        "  print(\"enter 1. Tea \\n 2. Coffee \\n 3. sandwich \\n 4. burger\")\n",
        "  choice=int(input(\"enter your choice : \"))\n",
        "  if choice==1:\n",
        "    print(\"ur selected tea and price is 10 .\")\n",
        "    tea_count=int(input(\"enter the count of tea :\"))\n",
        "    amt=tea_count*10\n",
        "    print(\"total amount is : \",amt)\n",
        "  elif choice==2:\n",
        "    print(\"ur selected coffee and price is 20\")\n",
        "    coffee_count=int(input(\"enter the count of coffee :\"))\n",
        "    amt=coffee_count*20\n",
        "    print(\"total amount is : \",amt)\n",
        "  elif choice==3:\n",
        "    print(\"ur selected sandwich and price is 30\")\n",
        "    sandwich_count=int(input(\"enter the count of sandwich :\"))\n",
        "    amt=sandwich_count*30\n",
        "    print(\"total amount is : \",amt)\n",
        "  elif choice==4:\n",
        "    print(\"ur selected burger and price is 40\")\n",
        "    burger_count=int(input(\"enter the count of burger :\"))\n",
        "    amt=burger_count*40\n",
        "    print(\"total amount is :\",amt)\n",
        "  else:\n",
        "    print(\"thank you for visiting.\")\n",
        "\n",
        "\n",
        "\n"
      ],
      "metadata": {
        "id": "8LmMccgqNkMu",
        "colab": {
          "base_uri": "https://localhost:8080/"
        },
        "outputId": "8b8b0ae4-bb1d-4dc2-9e8e-ff748acca75f"
      },
      "execution_count": null,
      "outputs": [
        {
          "output_type": "stream",
          "name": "stdout",
          "text": [
            "want to order : yes\n",
            "enter 1. Tea \n",
            " 2. Coffee \n",
            " 3. sandwich \n",
            " 4. burger\n",
            "enter your choice : 2\n",
            "ur selected coffee and price is 20\n",
            "enter the count of coffee :3\n",
            "total amount is 60\n"
          ]
        }
      ]
    },
    {
      "cell_type": "markdown",
      "source": [
        "# **while**"
      ],
      "metadata": {
        "id": "4vergjnTQR_6"
      }
    },
    {
      "cell_type": "code",
      "source": [
        "while True:\n",
        "  num=int(input(\"enter the number:\"))\n",
        "  if num>0:\n",
        "    print(\"this no is +: \",num)\n",
        "    break\n",
        "  else:\n",
        "    print(\"this no is -ve: \")"
      ],
      "metadata": {
        "id": "PeNli4PFNkRI",
        "colab": {
          "base_uri": "https://localhost:8080/"
        },
        "outputId": "2c64e71d-3f72-4159-e34c-6ac544202910"
      },
      "execution_count": null,
      "outputs": [
        {
          "output_type": "stream",
          "name": "stdout",
          "text": [
            "enter the number4\n",
            "this no is +:  4\n"
          ]
        }
      ]
    },
    {
      "cell_type": "markdown",
      "source": [
        "thanks for ordering\n",
        "\n",
        "------------------------\n",
        "\n",
        "\n",
        "Billno=100\n",
        "\n",
        "\n",
        "------------------------\n",
        "\n",
        "\n",
        "Item              quantity            amount\n",
        "Tea                 5                   50\n",
        "Vadapav             2                   30\n",
        "coffee              2                   100\n",
        "\n",
        "\n",
        "-------------------------------------------------\n",
        "\n",
        "\n",
        "# total_bill=9                       180"
      ],
      "metadata": {
        "id": "ytDrZgN1T6EU"
      }
    },
    {
      "cell_type": "code",
      "source": [
        "print(\"thank you for visiting\")\n",
        "print(\"\\n--------------------------------------------------------------------------------------------------------------------------------\")\n",
        "print(\"bill no=100\\n\")\n",
        "print(\"\\n--------------------------------------------------------------------------------------------------------------------------------\")\n",
        "yes_no=(input(\"want to order : \"))\n",
        "while True:\n",
        "  if yes_no==\"yes\":\n",
        "    print(\"enter 1. Tea \\n 2. Coffee \\n 3. sandwich \\n 4. burger\")\n",
        "    choice=int(input(\"enter your choice : \"))\n",
        "  if choice==1:\n",
        "    print(\"ur selected tea and price is 10 .\")\n",
        "    tea_count=int(input(\"enter the count of tea :\"))\n",
        "    amt_tea=tea_count*10\n",
        "    print(\"total amount is : \",amt_tea)\n",
        "  elif choice==2:\n",
        "    print(\"ur selected coffee and price is 20\")\n",
        "    coffee_count=int(input(\"enter the count of coffee :\"))\n",
        "    amt_coffee=coffee_count*20\n",
        "    print(\"total amount is : \",amt_coffee)\n",
        "  elif choice==3:\n",
        "    print(\"ur selected sandwich and price is 30\")\n",
        "    sandwich_count=int(input(\"enter the count of sandwich :\"))\n",
        "    amt_sandwich=sandwich_count*30\n",
        "    print(\"total amount is : \",amt_sandwich)\n",
        "  elif choice==4:\n",
        "    print(\"ur selected burger and price is 40\")\n",
        "    burger_count=int(input(\"enter the count of burger :\"))\n",
        "    amt_burger=burger_count*40\n",
        "    print(\"total amount is :\",amt_burger)\n",
        "\n",
        "\n",
        "  else:\n",
        "    print(\"thank you for visiting.\")\n",
        "    break\n",
        "    total_bill= (amt_tea + amt_coffee + amt_sandwich+amt_sandwich+amt_burger)\n",
        "    print(\"total bill=\",total_bill1\n",
        "          )\n",
        "\n",
        "print(\"thank you for visiting\")\n",
        "print(\"\\n--------------------------------------------------------------------------------------------------------------------------------\")\n",
        "print(\"bill no=100\\n\")\n",
        "print(\"\\n--------------------------------------------------------------------------------------------------------------------------------\")\n",
        "\n",
        "\n"
      ],
      "metadata": {
        "id": "R5Od45pjNkUe",
        "colab": {
          "base_uri": "https://localhost:8080/",
          "height": 599
        },
        "outputId": "3f937758-9b21-43e1-f409-91a28a1c54db"
      },
      "execution_count": null,
      "outputs": [
        {
          "output_type": "stream",
          "name": "stdout",
          "text": [
            "thank you for visiting\n",
            "\n",
            "--------------------------------------------------------------------------------------------------------------------------------\n",
            "bill no=100\n",
            "\n",
            "\n",
            "--------------------------------------------------------------------------------------------------------------------------------\n",
            "want to order : yes\n",
            "enter 1. Tea \n",
            " 2. Coffee \n",
            " 3. sandwich \n",
            " 4. burger\n",
            "enter your choice : 1\n",
            "ur selected tea and price is 10 .\n"
          ]
        },
        {
          "output_type": "error",
          "ename": "KeyboardInterrupt",
          "evalue": "Interrupted by user",
          "traceback": [
            "\u001b[0;31m---------------------------------------------------------------------------\u001b[0m",
            "\u001b[0;31mKeyboardInterrupt\u001b[0m                         Traceback (most recent call last)",
            "\u001b[0;32m<ipython-input-24-59f72530ec41>\u001b[0m in \u001b[0;36m<cell line: 6>\u001b[0;34m()\u001b[0m\n\u001b[1;32m     10\u001b[0m   \u001b[0;32mif\u001b[0m \u001b[0mchoice\u001b[0m\u001b[0;34m==\u001b[0m\u001b[0;36m1\u001b[0m\u001b[0;34m:\u001b[0m\u001b[0;34m\u001b[0m\u001b[0;34m\u001b[0m\u001b[0m\n\u001b[1;32m     11\u001b[0m     \u001b[0mprint\u001b[0m\u001b[0;34m(\u001b[0m\u001b[0;34m\"ur selected tea and price is 10 .\"\u001b[0m\u001b[0;34m)\u001b[0m\u001b[0;34m\u001b[0m\u001b[0;34m\u001b[0m\u001b[0m\n\u001b[0;32m---> 12\u001b[0;31m     \u001b[0mtea_count\u001b[0m\u001b[0;34m=\u001b[0m\u001b[0mint\u001b[0m\u001b[0;34m(\u001b[0m\u001b[0minput\u001b[0m\u001b[0;34m(\u001b[0m\u001b[0;34m\"enter the count of tea :\"\u001b[0m\u001b[0;34m)\u001b[0m\u001b[0;34m)\u001b[0m\u001b[0;34m\u001b[0m\u001b[0;34m\u001b[0m\u001b[0m\n\u001b[0m\u001b[1;32m     13\u001b[0m     \u001b[0mamt_tea\u001b[0m\u001b[0;34m=\u001b[0m\u001b[0mtea_count\u001b[0m\u001b[0;34m*\u001b[0m\u001b[0;36m10\u001b[0m\u001b[0;34m\u001b[0m\u001b[0;34m\u001b[0m\u001b[0m\n\u001b[1;32m     14\u001b[0m     \u001b[0mprint\u001b[0m\u001b[0;34m(\u001b[0m\u001b[0;34m\"total amount is : \"\u001b[0m\u001b[0;34m,\u001b[0m\u001b[0mamt_tea\u001b[0m\u001b[0;34m)\u001b[0m\u001b[0;34m\u001b[0m\u001b[0;34m\u001b[0m\u001b[0m\n",
            "\u001b[0;32m/usr/local/lib/python3.10/dist-packages/ipykernel/kernelbase.py\u001b[0m in \u001b[0;36mraw_input\u001b[0;34m(self, prompt)\u001b[0m\n\u001b[1;32m    849\u001b[0m                 \u001b[0;34m\"raw_input was called, but this frontend does not support input requests.\"\u001b[0m\u001b[0;34m\u001b[0m\u001b[0;34m\u001b[0m\u001b[0m\n\u001b[1;32m    850\u001b[0m             )\n\u001b[0;32m--> 851\u001b[0;31m         return self._input_request(str(prompt),\n\u001b[0m\u001b[1;32m    852\u001b[0m             \u001b[0mself\u001b[0m\u001b[0;34m.\u001b[0m\u001b[0m_parent_ident\u001b[0m\u001b[0;34m,\u001b[0m\u001b[0;34m\u001b[0m\u001b[0;34m\u001b[0m\u001b[0m\n\u001b[1;32m    853\u001b[0m             \u001b[0mself\u001b[0m\u001b[0;34m.\u001b[0m\u001b[0m_parent_header\u001b[0m\u001b[0;34m,\u001b[0m\u001b[0;34m\u001b[0m\u001b[0;34m\u001b[0m\u001b[0m\n",
            "\u001b[0;32m/usr/local/lib/python3.10/dist-packages/ipykernel/kernelbase.py\u001b[0m in \u001b[0;36m_input_request\u001b[0;34m(self, prompt, ident, parent, password)\u001b[0m\n\u001b[1;32m    893\u001b[0m             \u001b[0;32mexcept\u001b[0m \u001b[0mKeyboardInterrupt\u001b[0m\u001b[0;34m:\u001b[0m\u001b[0;34m\u001b[0m\u001b[0;34m\u001b[0m\u001b[0m\n\u001b[1;32m    894\u001b[0m                 \u001b[0;31m# re-raise KeyboardInterrupt, to truncate traceback\u001b[0m\u001b[0;34m\u001b[0m\u001b[0;34m\u001b[0m\u001b[0m\n\u001b[0;32m--> 895\u001b[0;31m                 \u001b[0;32mraise\u001b[0m \u001b[0mKeyboardInterrupt\u001b[0m\u001b[0;34m(\u001b[0m\u001b[0;34m\"Interrupted by user\"\u001b[0m\u001b[0;34m)\u001b[0m \u001b[0;32mfrom\u001b[0m \u001b[0;32mNone\u001b[0m\u001b[0;34m\u001b[0m\u001b[0;34m\u001b[0m\u001b[0m\n\u001b[0m\u001b[1;32m    896\u001b[0m             \u001b[0;32mexcept\u001b[0m \u001b[0mException\u001b[0m \u001b[0;32mas\u001b[0m \u001b[0me\u001b[0m\u001b[0;34m:\u001b[0m\u001b[0;34m\u001b[0m\u001b[0;34m\u001b[0m\u001b[0m\n\u001b[1;32m    897\u001b[0m                 \u001b[0mself\u001b[0m\u001b[0;34m.\u001b[0m\u001b[0mlog\u001b[0m\u001b[0;34m.\u001b[0m\u001b[0mwarning\u001b[0m\u001b[0;34m(\u001b[0m\u001b[0;34m\"Invalid Message:\"\u001b[0m\u001b[0;34m,\u001b[0m \u001b[0mexc_info\u001b[0m\u001b[0;34m=\u001b[0m\u001b[0;32mTrue\u001b[0m\u001b[0;34m)\u001b[0m\u001b[0;34m\u001b[0m\u001b[0;34m\u001b[0m\u001b[0m\n",
            "\u001b[0;31mKeyboardInterrupt\u001b[0m: Interrupted by user"
          ]
        }
      ]
    },
    {
      "cell_type": "code",
      "source": [
        "# prompt: thank you for visiting\n",
        "#  --------------------------------------------------------------------------------------------------------------------------------\n",
        "# bill no=100\n",
        "#  --------------------------------------------------------------------------------------------------------------------------------.print like this it will show items, quantity and amount in different column\n",
        "\n",
        "print(\"--------------------------------------------------------------------------------------------------------------------------------\")\n",
        "print(\"bill no=100\")\n",
        "print(\"--------------------------------------------------------------------------------------------------------------------------------\")\n",
        "print(\"Item\\tQuantity\\tAmount\") # Added header row for clarity\n",
        "print(\"--------------------------------------------------------------------------------------------------------------------------------\")\n",
        "\n",
        "# Example items and their details (Replace with actual order details)\n",
        "items = [\n",
        "    {\"name\": \"Tea\", \"quantity\": 2, \"price\": 10},\n",
        "    {\"name\": \"Coffee\", \"quantity\": 1, \"price\": 20},\n",
        "    {\"name\": \"Sandwich\", \"quantity\": 3, \"price\": 30}\n",
        "]\n",
        "\n",
        "\n",
        "for item in items:\n",
        "    amount = item[\"quantity\"] * item[\"price\"]\n",
        "    print(f\"{item['name']}\\t{item['quantity']}\\t\\t{amount}\")\n",
        "\n",
        "print(\"--------------------------------------------------------------------------------------------------------------------------------\")\n"
      ],
      "metadata": {
        "colab": {
          "base_uri": "https://localhost:8080/"
        },
        "id": "ZW1dBoaUSaPA",
        "outputId": "7b868cfd-74b1-4c4f-d379-1892e36d1c3e"
      },
      "execution_count": null,
      "outputs": [
        {
          "output_type": "stream",
          "name": "stdout",
          "text": [
            "--------------------------------------------------------------------------------------------------------------------------------\n",
            "bill no=100\n",
            "--------------------------------------------------------------------------------------------------------------------------------\n",
            "Item\tQuantity\tAmount\n",
            "--------------------------------------------------------------------------------------------------------------------------------\n",
            "Tea\t2\t\t20\n",
            "Coffee\t1\t\t20\n",
            "Sandwich\t3\t\t90\n",
            "--------------------------------------------------------------------------------------------------------------------------------\n"
          ]
        }
      ]
    },
    {
      "cell_type": "code",
      "source": [],
      "metadata": {
        "id": "XjyIfIo8SaLo"
      },
      "execution_count": null,
      "outputs": []
    },
    {
      "cell_type": "code",
      "source": [],
      "metadata": {
        "id": "2_u70im-SaJD"
      },
      "execution_count": null,
      "outputs": []
    },
    {
      "cell_type": "code",
      "source": [
        "print(\"thanks for ordering\")\n",
        "print(\"------------------------\")\n",
        "print(\"Billno=100\")\n",
        "print(\"------------------------\")\n",
        "print(\"Item       quantity     amount\")\n",
        "\n",
        "item = \"\"\n",
        "quantity = 0\n",
        "price = 0\n",
        "total_quantity = 0\n",
        "total_amount = 0\n",
        "\n",
        "while True:\n",
        "    if item == \"\":\n",
        "        item = \"Tea\"\n",
        "        quantity = 5\n",
        "        price = 50\n",
        "    elif item == \"Tea\":\n",
        "        item = \"Vadapav\"\n",
        "        quantity = 2\n",
        "        price = 30\n",
        "    elif item == \"Vadapav\":\n",
        "        item = \"coffee\"\n",
        "        quantity = 2\n",
        "        price = 100\n",
        "    elif item == \"coffee\":\n",
        "        break  # Exit the loop after the last item\n",
        "\n",
        "    # Calculate totals and print each line\n",
        "    total_quantity += quantity\n",
        "    total_amount += price\n",
        "    print(f\"{item:<10} {quantity:<10} {price:<10}\")\n",
        "    item = \"\"\n",
        "\n",
        "print(\"-------------------------------------------------\")\n",
        "print(f\"total_bill= {total_quantity}       {total_amount}\")"
      ],
      "metadata": {
        "id": "NgdqkxLoSaGG"
      },
      "execution_count": null,
      "outputs": []
    },
    {
      "cell_type": "code",
      "source": [],
      "metadata": {
        "id": "ro26M7FlSaDS"
      },
      "execution_count": null,
      "outputs": []
    },
    {
      "cell_type": "markdown",
      "source": [
        "# **1st 10 even numbers**"
      ],
      "metadata": {
        "id": "2-LYsnMeZsMv"
      }
    },
    {
      "cell_type": "code",
      "source": [
        "num = 0\n",
        "while num <= 20:\n",
        "    if num % 2 == 0:\n",
        "        print(num)\n",
        "    num += 1"
      ],
      "metadata": {
        "colab": {
          "base_uri": "https://localhost:8080/"
        },
        "id": "nrbP5MScSaAH",
        "outputId": "88bb9c31-a51b-4aad-ba5a-90b3f3114f20"
      },
      "execution_count": null,
      "outputs": [
        {
          "output_type": "stream",
          "name": "stdout",
          "text": [
            "0\n",
            "2\n",
            "4\n",
            "6\n",
            "8\n",
            "10\n",
            "12\n",
            "14\n",
            "16\n",
            "18\n",
            "20\n"
          ]
        }
      ]
    },
    {
      "cell_type": "code",
      "source": [
        "num = 2\n",
        "while num <= 20:\n",
        "   print(num)\n",
        "   num += 2"
      ],
      "metadata": {
        "colab": {
          "base_uri": "https://localhost:8080/"
        },
        "id": "Tpd0hEX5SZ9F",
        "outputId": "b0e49984-3706-4ac5-a734-7d461c199262"
      },
      "execution_count": null,
      "outputs": [
        {
          "output_type": "stream",
          "name": "stdout",
          "text": [
            "2\n",
            "4\n",
            "6\n",
            "8\n",
            "10\n",
            "12\n",
            "14\n",
            "16\n",
            "18\n",
            "20\n"
          ]
        }
      ]
    },
    {
      "cell_type": "code",
      "source": [
        "num = 10\n",
        "while num >=1 :\n",
        "   print(num)\n",
        "   num -=1"
      ],
      "metadata": {
        "colab": {
          "base_uri": "https://localhost:8080/"
        },
        "id": "fEq3FCPaSZ6K",
        "outputId": "ce01f57e-9c7e-4c9f-f33d-045fdf7a3038"
      },
      "execution_count": null,
      "outputs": [
        {
          "output_type": "stream",
          "name": "stdout",
          "text": [
            "10\n",
            "9\n",
            "8\n",
            "7\n",
            "6\n",
            "5\n",
            "4\n",
            "3\n",
            "2\n",
            "1\n"
          ]
        }
      ]
    },
    {
      "cell_type": "markdown",
      "source": [
        "# **table of 9**"
      ],
      "metadata": {
        "id": "DZPFzd31a8MI"
      }
    },
    {
      "cell_type": "code",
      "source": [
        "num=9\n",
        "i=1\n",
        "while i<=10:\n",
        "  print(num,\"*\",i,\"=\",num*i)\n",
        "  i+=1"
      ],
      "metadata": {
        "colab": {
          "base_uri": "https://localhost:8080/"
        },
        "id": "rIfoBmPwSZza",
        "outputId": "1f3b325f-5ec7-4834-bbf8-df39f61a069f"
      },
      "execution_count": null,
      "outputs": [
        {
          "output_type": "stream",
          "name": "stdout",
          "text": [
            "9 * 1 = 9\n",
            "9 * 2 = 18\n",
            "9 * 3 = 27\n",
            "9 * 4 = 36\n",
            "9 * 5 = 45\n",
            "9 * 6 = 54\n",
            "9 * 7 = 63\n",
            "9 * 8 = 72\n",
            "9 * 9 = 81\n",
            "9 * 10 = 90\n"
          ]
        }
      ]
    },
    {
      "cell_type": "code",
      "source": [
        "num=10\n",
        "i=1\n",
        "print(\"num, cube, square\")\n",
        "while i<=10:\n",
        "\n",
        "  print(i,i*i*i, i*i)\n",
        "  i+=1"
      ],
      "metadata": {
        "id": "1W-Qn4_vSZwb",
        "colab": {
          "base_uri": "https://localhost:8080/"
        },
        "outputId": "42564275-e955-453d-ffce-9c555e1cb387"
      },
      "execution_count": null,
      "outputs": [
        {
          "output_type": "stream",
          "name": "stdout",
          "text": [
            "num, cube, square\n",
            "1 1 1\n",
            "2 8 4\n",
            "3 27 9\n",
            "4 64 16\n",
            "5 125 25\n",
            "6 216 36\n",
            "7 343 49\n",
            "8 512 64\n",
            "9 729 81\n",
            "10 1000 100\n"
          ]
        }
      ]
    },
    {
      "cell_type": "code",
      "source": [
        "num=5\n",
        "r=0\n",
        "sum=0\n",
        "while num>0:\n",
        "  r=num%10\n",
        "  sum=sum+r\n",
        "  num=num//10\n",
        "print(sum)"
      ],
      "metadata": {
        "id": "y5_KBa5fSZti",
        "colab": {
          "base_uri": "https://localhost:8080/"
        },
        "outputId": "be59328d-6461-4458-d92c-cce921ee3d47"
      },
      "execution_count": null,
      "outputs": [
        {
          "output_type": "stream",
          "name": "stdout",
          "text": [
            "5\n"
          ]
        }
      ]
    },
    {
      "cell_type": "markdown",
      "source": [
        "# **palindrome **"
      ],
      "metadata": {
        "id": "DBgg8kkkjuXF"
      }
    },
    {
      "cell_type": "code",
      "source": [
        "num=str(input(\"enter a number : \"))\n",
        "s=str(num) # type casting \"1221\"\n",
        "r=s[::-1]\n",
        "if s==r:\n",
        "  print(\"palindrome\")\n",
        "else:\n",
        "  print(\"not palindrome\")"
      ],
      "metadata": {
        "colab": {
          "base_uri": "https://localhost:8080/"
        },
        "id": "PwHrzj9wjnDL",
        "outputId": "ecb9df4f-6785-4c73-c6dc-e12090288b4f"
      },
      "execution_count": null,
      "outputs": [
        {
          "output_type": "stream",
          "name": "stdout",
          "text": [
            "enter a number : NITIN\n",
            "palindrome\n"
          ]
        }
      ]
    },
    {
      "cell_type": "markdown",
      "source": [
        "# **1-20 even number square and odd number Cube **"
      ],
      "metadata": {
        "id": "P5m8w9SelDRa"
      }
    },
    {
      "cell_type": "code",
      "source": [
        "num = 1\n",
        "while num <= 20:\n",
        "    if num % 2 == 0:\n",
        "      print(num, num*num)\n",
        "    else:\n",
        "      print(num,num*num*num)\n",
        "    num+=1\n",
        "\n"
      ],
      "metadata": {
        "colab": {
          "base_uri": "https://localhost:8080/"
        },
        "id": "88DDQKLRj4pT",
        "outputId": "181f80a6-39ad-4b8e-835b-23969e0156be"
      },
      "execution_count": null,
      "outputs": [
        {
          "output_type": "stream",
          "name": "stdout",
          "text": [
            "1 1\n",
            "2 4\n",
            "3 27\n",
            "4 16\n",
            "5 125\n",
            "6 36\n",
            "7 343\n",
            "8 64\n",
            "9 729\n",
            "10 100\n",
            "11 1331\n",
            "12 144\n",
            "13 2197\n",
            "14 196\n",
            "15 3375\n",
            "16 256\n",
            "17 4913\n",
            "18 324\n",
            "19 6859\n",
            "20 400\n"
          ]
        }
      ]
    },
    {
      "cell_type": "code",
      "source": [],
      "metadata": {
        "id": "RluxyZ8jj4ma"
      },
      "execution_count": null,
      "outputs": []
    },
    {
      "cell_type": "markdown",
      "source": [],
      "metadata": {
        "id": "YXR4lNiaF6H1"
      }
    },
    {
      "cell_type": "markdown",
      "source": [
        "# **for Loop**"
      ],
      "metadata": {
        "id": "8X2_sA9fF5Me"
      }
    },
    {
      "cell_type": "code",
      "source": [
        "for i in range(2,21):\n",
        "  if i%2==0:\n",
        "    print(i)\n",
        "  else:\n",
        "    print(i)"
      ],
      "metadata": {
        "id": "3re3zoTij4jh",
        "colab": {
          "base_uri": "https://localhost:8080/"
        },
        "outputId": "9943e24d-acfa-411c-bb41-c550edf9c20a"
      },
      "execution_count": null,
      "outputs": [
        {
          "output_type": "stream",
          "name": "stdout",
          "text": [
            "2\n",
            "3\n",
            "4\n",
            "5\n",
            "6\n",
            "7\n",
            "8\n",
            "9\n",
            "10\n",
            "11\n",
            "12\n",
            "13\n",
            "14\n",
            "15\n",
            "16\n",
            "17\n",
            "18\n",
            "19\n",
            "20\n"
          ]
        }
      ]
    },
    {
      "cell_type": "code",
      "source": [
        "65==aiter"
      ],
      "metadata": {
        "id": "cO0MHZAKj4go"
      },
      "execution_count": null,
      "outputs": []
    },
    {
      "cell_type": "code",
      "source": [
        "start=int(input(\"enter start\"))\n",
        "end=int(input(\"enter end\"))\n",
        "if start>end:\n",
        "  for i in range(start,end,-1):\n",
        "    print(i)\n",
        "else:\n",
        "  for i in range(start,end):\n",
        "    print(i)"
      ],
      "metadata": {
        "colab": {
          "base_uri": "https://localhost:8080/"
        },
        "id": "jyKpesggInFD",
        "outputId": "15ab0041-e64a-4b41-819c-0fdaebac0e83"
      },
      "execution_count": null,
      "outputs": [
        {
          "output_type": "stream",
          "name": "stdout",
          "text": [
            "enter start1\n",
            "enter end2\n",
            "1\n"
          ]
        }
      ]
    },
    {
      "cell_type": "code",
      "source": [],
      "metadata": {
        "id": "5NHhZ1A3InBr"
      },
      "execution_count": null,
      "outputs": []
    },
    {
      "cell_type": "code",
      "source": [],
      "metadata": {
        "id": "5l_NDTxXIm_W"
      },
      "execution_count": null,
      "outputs": []
    },
    {
      "cell_type": "code",
      "source": [
        "for i in range(1,6):\n",
        "  for j in range (i+1):\n",
        "    print(\"*\",end=\" \")\n",
        "  print()\n"
      ],
      "metadata": {
        "id": "vdiNkPRlj4d2",
        "colab": {
          "base_uri": "https://localhost:8080/"
        },
        "outputId": "3fa809af-c67c-45d3-f27e-9af87b0fbace"
      },
      "execution_count": null,
      "outputs": [
        {
          "output_type": "stream",
          "name": "stdout",
          "text": [
            "* * \n",
            "* * * \n",
            "* * * * \n",
            "* * * * * \n",
            "* * * * * * \n"
          ]
        }
      ]
    },
    {
      "cell_type": "code",
      "source": [
        "for i in range(0,5):\n",
        "  for j in range (i+1):\n",
        "    print(\"*\",end=\" \")\n",
        "  print()\n"
      ],
      "metadata": {
        "id": "ZgZSrZbqj4bL",
        "colab": {
          "base_uri": "https://localhost:8080/"
        },
        "outputId": "74ecd965-e089-4cf4-e947-8cc04c79955e"
      },
      "execution_count": null,
      "outputs": [
        {
          "output_type": "stream",
          "name": "stdout",
          "text": [
            "* \n",
            "* * \n",
            "* * * \n",
            "* * * * \n",
            "* * * * * \n"
          ]
        }
      ]
    },
    {
      "cell_type": "code",
      "source": [
        "for i in range(1,6):\n",
        "  for j in range (i+1):\n",
        "    print(j,end=\" \")\n",
        "  print()\n"
      ],
      "metadata": {
        "id": "tt1x0F9vj4YD",
        "colab": {
          "base_uri": "https://localhost:8080/"
        },
        "outputId": "61ec1bab-1e1d-4d7f-daf9-6987b07c7873"
      },
      "execution_count": null,
      "outputs": [
        {
          "output_type": "stream",
          "name": "stdout",
          "text": [
            "0 1 \n",
            "0 1 2 \n",
            "0 1 2 3 \n",
            "0 1 2 3 4 \n",
            "0 1 2 3 4 5 \n"
          ]
        }
      ]
    },
    {
      "cell_type": "code",
      "source": [
        "for i in range( 1,6):\n",
        "  for j in range (1,i+1):\n",
        "    print(j,end=\" \")\n",
        "  print()\n"
      ],
      "metadata": {
        "id": "kQR3_-fQj4U6",
        "colab": {
          "base_uri": "https://localhost:8080/"
        },
        "outputId": "b9dd8792-3669-41ef-e2f4-d2dea3ad1788"
      },
      "execution_count": null,
      "outputs": [
        {
          "output_type": "stream",
          "name": "stdout",
          "text": [
            "1 \n",
            "1 2 \n",
            "1 2 3 \n",
            "1 2 3 4 \n",
            "1 2 3 4 5 \n"
          ]
        }
      ]
    },
    {
      "cell_type": "code",
      "source": [
        "for i in range( 1,6):\n",
        "  for j in range (64+i,i+1):\n",
        "    print(j,end=\" \")\n",
        "  print()\n"
      ],
      "metadata": {
        "id": "HvZIsr5jj4Rz",
        "colab": {
          "base_uri": "https://localhost:8080/"
        },
        "outputId": "cd84f516-8aee-4671-92ba-1ad1645e3010"
      },
      "execution_count": null,
      "outputs": [
        {
          "output_type": "stream",
          "name": "stdout",
          "text": [
            "\n",
            "\n",
            "\n",
            "\n",
            "\n"
          ]
        }
      ]
    },
    {
      "cell_type": "code",
      "source": [
        "for i in range(1, 6):\n",
        "    for j in range(1, i + 1):\n",
        "        print(chr(64 + j), end=\" \")\n",
        "    print()"
      ],
      "metadata": {
        "colab": {
          "base_uri": "https://localhost:8080/"
        },
        "id": "ewZpUSREH5SX",
        "outputId": "a6ce6e62-0b5f-4f22-c4cc-2c96a2e12760"
      },
      "execution_count": null,
      "outputs": [
        {
          "output_type": "stream",
          "name": "stdout",
          "text": [
            "A \n",
            "A B \n",
            "A B C \n",
            "A B C D \n",
            "A B C D E \n"
          ]
        }
      ]
    },
    {
      "cell_type": "code",
      "source": [
        "for i in range(6,1):\n",
        "    for j in range(6, i + 1):\n",
        "        print(chr(64 + j), end=\" \")\n",
        "    print()"
      ],
      "metadata": {
        "id": "DzNNREeZH5Zq"
      },
      "execution_count": null,
      "outputs": []
    },
    {
      "cell_type": "code",
      "source": [
        "for i in range( 5,0,-1):\n",
        "  for j in range (1,i+1):\n",
        "    print(j,end=\" \")\n",
        "  print()\n"
      ],
      "metadata": {
        "colab": {
          "base_uri": "https://localhost:8080/"
        },
        "id": "lURbF5MuH5gH",
        "outputId": "5596eef9-6844-4c2d-8112-56e4715fd315"
      },
      "execution_count": null,
      "outputs": [
        {
          "output_type": "stream",
          "name": "stdout",
          "text": [
            "1 2 3 4 5 \n",
            "1 2 3 4 \n",
            "1 2 3 \n",
            "1 2 \n",
            "1 \n"
          ]
        }
      ]
    },
    {
      "cell_type": "code",
      "source": [
        "for i in range( 5):\n",
        "  for j in range (5,i,-1):\n",
        "    print(j,end=\" \")\n",
        "  print()\n"
      ],
      "metadata": {
        "colab": {
          "base_uri": "https://localhost:8080/"
        },
        "id": "K8Xg3b28H5jF",
        "outputId": "bceb8164-17a9-46ea-94eb-0bb91de55955"
      },
      "execution_count": null,
      "outputs": [
        {
          "output_type": "stream",
          "name": "stdout",
          "text": [
            "5 4 3 2 1 \n",
            "5 4 3 2 \n",
            "5 4 3 \n",
            "5 4 \n",
            "5 \n"
          ]
        }
      ]
    },
    {
      "cell_type": "code",
      "source": [
        "for i in range(1,6):\n",
        "  for j in range (1,i+1):\n",
        "    print(i,end=\" \")\n",
        "  print()\n"
      ],
      "metadata": {
        "colab": {
          "base_uri": "https://localhost:8080/"
        },
        "id": "8t3UDl4pH5lu",
        "outputId": "35df1714-c803-48d3-fb12-6763a945e927"
      },
      "execution_count": null,
      "outputs": [
        {
          "output_type": "stream",
          "name": "stdout",
          "text": [
            "1 \n",
            "2 2 \n",
            "3 3 3 \n",
            "4 4 4 4 \n",
            "5 5 5 5 5 \n"
          ]
        }
      ]
    },
    {
      "cell_type": "code",
      "source": [
        "for i in range(1,6):\n",
        "  for j in range (1,i+1):\n",
        "    print(i%2,end=\" \")\n",
        "  print()\n"
      ],
      "metadata": {
        "colab": {
          "base_uri": "https://localhost:8080/"
        },
        "id": "iMdjU_BVH5o2",
        "outputId": "c681b6f9-1b04-43e4-b19c-0a5c2806d281"
      },
      "execution_count": null,
      "outputs": [
        {
          "output_type": "stream",
          "name": "stdout",
          "text": [
            "1 \n",
            "0 0 \n",
            "1 1 1 \n",
            "0 0 0 0 \n",
            "1 1 1 1 1 \n"
          ]
        }
      ]
    },
    {
      "cell_type": "code",
      "source": [
        "for i in range(1,6):\n",
        "  for j in range (1,i+1):\n",
        "    print(i+1,end=\" \")\n",
        "  print()\n"
      ],
      "metadata": {
        "colab": {
          "base_uri": "https://localhost:8080/"
        },
        "id": "2ZsQZ_PaH5rs",
        "outputId": "1f861926-84a2-44cd-f457-4c6e64484db3"
      },
      "execution_count": null,
      "outputs": [
        {
          "output_type": "stream",
          "name": "stdout",
          "text": [
            "2 \n",
            "3 3 \n",
            "4 4 4 \n",
            "5 5 5 5 \n",
            "6 6 6 6 6 \n"
          ]
        }
      ]
    },
    {
      "cell_type": "code",
      "source": [
        "10\n",
        "101\n",
        "1010\n",
        "10101"
      ],
      "metadata": {
        "id": "IVxP8RkGcof_"
      },
      "execution_count": null,
      "outputs": []
    },
    {
      "cell_type": "code",
      "source": [
        "for i in range(1, 6):\n",
        "    for j in range(1, i + 1):\n",
        "        print(j % 2, end=\"\")\n",
        "    print()"
      ],
      "metadata": {
        "colab": {
          "base_uri": "https://localhost:8080/"
        },
        "id": "MjKrS8e-coaA",
        "outputId": "f98b5934-ee2b-46d6-bd14-c097963d595d"
      },
      "execution_count": null,
      "outputs": [
        {
          "output_type": "stream",
          "name": "stdout",
          "text": [
            "1\n",
            "10\n",
            "101\n",
            "1010\n",
            "10101\n"
          ]
        }
      ]
    },
    {
      "cell_type": "code",
      "source": [],
      "metadata": {
        "id": "JeRTDP1FcoXC"
      },
      "execution_count": null,
      "outputs": []
    },
    {
      "cell_type": "markdown",
      "source": [
        "# **list**"
      ],
      "metadata": {
        "id": "bDW63S9vQxpv"
      }
    },
    {
      "cell_type": "code",
      "source": [
        "square bracket"
      ],
      "metadata": {
        "id": "8Cb579WtH5vB"
      },
      "execution_count": null,
      "outputs": []
    },
    {
      "cell_type": "code",
      "source": [
        "lst=[\"a\",12,9.8,\"gayu\",True]\n",
        "print(lst)"
      ],
      "metadata": {
        "id": "h7rMpasVj4O5",
        "colab": {
          "base_uri": "https://localhost:8080/"
        },
        "outputId": "2696767f-360f-44c5-bcf0-b921d8f49640"
      },
      "execution_count": null,
      "outputs": [
        {
          "output_type": "stream",
          "name": "stdout",
          "text": [
            "['a', 12, 9.8, 'gayu', True]\n"
          ]
        }
      ]
    },
    {
      "cell_type": "code",
      "source": [
        "lst=[\"a\",12,9.8,\"gayu\",True]\n",
        "print(lst[1])"
      ],
      "metadata": {
        "id": "QCty2Bl2Q8g6",
        "colab": {
          "base_uri": "https://localhost:8080/"
        },
        "outputId": "1ae22745-af20-4f37-d009-0180f880071b"
      },
      "execution_count": null,
      "outputs": [
        {
          "output_type": "stream",
          "name": "stdout",
          "text": [
            "12\n"
          ]
        }
      ]
    },
    {
      "cell_type": "code",
      "source": [
        "lst=[\"a\",12,9.8,\"gayu\",True]\n",
        "# Access the last element using negative indexing\n",
        "last_element = lst[-1]\n",
        "# Print the last element, instead of its length\n",
        "print(last_element)\n",
        "\n",
        "# If you want the length of the list, use len(lst)\n",
        "print(len(lst))"
      ],
      "metadata": {
        "id": "JHYSrSEUQ8j0",
        "colab": {
          "base_uri": "https://localhost:8080/"
        },
        "outputId": "bd91b614-2440-44f2-dc1a-98b108a774ec"
      },
      "execution_count": null,
      "outputs": [
        {
          "output_type": "stream",
          "name": "stdout",
          "text": [
            "True\n",
            "5\n"
          ]
        }
      ]
    },
    {
      "cell_type": "code",
      "source": [
        "lst=[\"a\",12,9.8,\"gayu\",True]\n",
        "print(lst[0])"
      ],
      "metadata": {
        "id": "svVZkPbtQ8mx",
        "colab": {
          "base_uri": "https://localhost:8080/"
        },
        "outputId": "f989a722-68d4-4079-9c6b-2f5c059374e8"
      },
      "execution_count": null,
      "outputs": [
        {
          "output_type": "stream",
          "name": "stdout",
          "text": [
            "a\n"
          ]
        }
      ]
    },
    {
      "cell_type": "code",
      "source": [
        "lst=[\"a\",12,9.8,\"gayu\",True]\n",
        "lst.append(\"beee\")\n",
        "print(lst)"
      ],
      "metadata": {
        "id": "zaKBIDERQ8pw",
        "colab": {
          "base_uri": "https://localhost:8080/"
        },
        "outputId": "557469d5-4da2-4e85-80b2-2fbbff8ba044"
      },
      "execution_count": null,
      "outputs": [
        {
          "output_type": "stream",
          "name": "stdout",
          "text": [
            "['a', 12, 9.8, 'gayu', True, 'beee']\n"
          ]
        }
      ]
    },
    {
      "cell_type": "code",
      "source": [
        "lst=[\"a\",12,9.8,\"gayu\",True]\n",
        "lst.remove(\"a\")\n",
        "print(lst)"
      ],
      "metadata": {
        "id": "gvNBDusaQ8sr",
        "colab": {
          "base_uri": "https://localhost:8080/"
        },
        "outputId": "ee6ee5f8-0e19-462f-e670-808cd9d5007b"
      },
      "execution_count": null,
      "outputs": [
        {
          "output_type": "stream",
          "name": "stdout",
          "text": [
            "[12, 9.8, 'gayu', True]\n"
          ]
        }
      ]
    },
    {
      "cell_type": "code",
      "source": [
        "lst=[10,20,20,30,40,94,29,90,80]\n",
        "for i in lst:\n",
        "  print(i,lst.index(i))\n",
        "\n"
      ],
      "metadata": {
        "id": "yZorDtGuQ8vt",
        "colab": {
          "base_uri": "https://localhost:8080/"
        },
        "outputId": "5b6a3d99-f721-43ea-a836-193f39f0c253"
      },
      "execution_count": null,
      "outputs": [
        {
          "output_type": "stream",
          "name": "stdout",
          "text": [
            "10 0\n",
            "20 1\n",
            "20 1\n",
            "30 3\n",
            "40 4\n",
            "94 5\n",
            "29 6\n",
            "90 7\n",
            "80 8\n"
          ]
        }
      ]
    },
    {
      "cell_type": "code",
      "source": [
        "lst=[10,20,20,30,40,94,29,90,80]\n",
        "for i in range(len(lst)):\n",
        "  print(f\"Index: {i}, Number: {lst[i]}\")"
      ],
      "metadata": {
        "id": "6N22wcBnQ81t",
        "colab": {
          "base_uri": "https://localhost:8080/"
        },
        "outputId": "347f95c0-aea8-4c8e-ae00-7cdc2d6945bb"
      },
      "execution_count": null,
      "outputs": [
        {
          "output_type": "stream",
          "name": "stdout",
          "text": [
            "Index: 0, Number: 10\n",
            "Index: 1, Number: 20\n",
            "Index: 2, Number: 20\n",
            "Index: 3, Number: 30\n",
            "Index: 4, Number: 40\n",
            "Index: 5, Number: 94\n",
            "Index: 6, Number: 29\n",
            "Index: 7, Number: 90\n",
            "Index: 8, Number: 80\n"
          ]
        }
      ]
    },
    {
      "cell_type": "code",
      "source": [
        "lst=[10,20,20,30,40,94,29,90,80]\n",
        "min=lst[0]\n",
        "for i in range(1,len(lst)):\n",
        "  if lst[i]<min:\n",
        "    min=lst[i]\n",
        "print(min)"
      ],
      "metadata": {
        "id": "2cwvkDbEQ842",
        "colab": {
          "base_uri": "https://localhost:8080/"
        },
        "outputId": "aee82a52-32dc-4260-9ab6-fe4c4a1bdaa7"
      },
      "execution_count": null,
      "outputs": [
        {
          "output_type": "stream",
          "name": "stdout",
          "text": [
            "10\n"
          ]
        }
      ]
    },
    {
      "cell_type": "code",
      "source": [
        "lst=[10,20,20,30,40,94,29,90,80]\n",
        "max=lst[0]\n",
        "for i in range(1,len(lst)):\n",
        "  if lst[i]>max:\n",
        "    max=lst[i]\n",
        "print(max)"
      ],
      "metadata": {
        "colab": {
          "base_uri": "https://localhost:8080/"
        },
        "id": "Ohpsu2VbV8Xf",
        "outputId": "9c9bb9f0-1cb1-4d99-df0d-8f72e3924909"
      },
      "execution_count": null,
      "outputs": [
        {
          "output_type": "stream",
          "name": "stdout",
          "text": [
            "94\n"
          ]
        }
      ]
    },
    {
      "cell_type": "code",
      "source": [
        "lst=[10,20,20,30,40,94,29,90,80]\n",
        "max=lst[0]\n",
        "for i in lst:\n",
        "  if i>max:\n",
        "    max=i\n",
        "print(max)"
      ],
      "metadata": {
        "colab": {
          "base_uri": "https://localhost:8080/"
        },
        "id": "h5TRWHpRWr7n",
        "outputId": "e58e3f79-2240-4ec6-e9b9-bdc1274cb2dc"
      },
      "execution_count": null,
      "outputs": [
        {
          "output_type": "stream",
          "name": "stdout",
          "text": [
            "94\n"
          ]
        }
      ]
    },
    {
      "cell_type": "code",
      "source": [
        "key=int(input(\"enter number: \"))\n",
        "lst=[10,20,20,30,40,94,29,90,80]\n",
        "count=0\n",
        "for i in lst:\n",
        "  if i==key:\n",
        "    count =+1\n",
        "print(count)\n"
      ],
      "metadata": {
        "colab": {
          "base_uri": "https://localhost:8080/"
        },
        "id": "1EmurZdCWsCB",
        "outputId": "795ab2fe-617e-48b5-83b1-283cad0e7897"
      },
      "execution_count": null,
      "outputs": [
        {
          "output_type": "stream",
          "name": "stdout",
          "text": [
            "enter number: 30\n",
            "1\n"
          ]
        }
      ]
    },
    {
      "cell_type": "code",
      "source": [
        "lst=[10,20,20,30,40,94,29,90,80]\n",
        "print(lst)\n",
        "for i in range(len(lst)):\n",
        "  if lst[i]==80:\n",
        "    lst[i]=40\n",
        "print(lst)"
      ],
      "metadata": {
        "colab": {
          "base_uri": "https://localhost:8080/"
        },
        "id": "VejXLncuWsEu",
        "outputId": "9112e654-2ea8-4c8a-92d1-609df2433122"
      },
      "execution_count": null,
      "outputs": [
        {
          "output_type": "stream",
          "name": "stdout",
          "text": [
            "[10, 20, 20, 30, 40, 94, 29, 90, 80]\n",
            "[10, 20, 20, 30, 40, 94, 29, 90, 40]\n"
          ]
        }
      ]
    },
    {
      "cell_type": "code",
      "source": [
        "lst=[10,20,20,30,40,94,29,90,80]\n",
        "print(lst)\n",
        "for i in range(len(lst)):\n",
        "  if lst[i]==20:\n",
        "    lst[i]=40\n",
        "print(lst)"
      ],
      "metadata": {
        "colab": {
          "base_uri": "https://localhost:8080/"
        },
        "id": "pmC0m8MFWsHf",
        "outputId": "cf434613-8139-4082-c806-070ec455d593"
      },
      "execution_count": null,
      "outputs": [
        {
          "output_type": "stream",
          "name": "stdout",
          "text": [
            "[10, 20, 20, 30, 40, 94, 29, 90, 80]\n",
            "[10, 40, 40, 30, 40, 94, 29, 90, 80]\n"
          ]
        }
      ]
    },
    {
      "cell_type": "code",
      "source": [
        "lst=[10,20,20,30,40,94,29,90,80]\n",
        "print(lst)\n",
        "for i in range(len(lst)):\n",
        "  if lst[i]==20:\n",
        "    lst[i]=40\n",
        "    break\n",
        "print(lst)"
      ],
      "metadata": {
        "colab": {
          "base_uri": "https://localhost:8080/"
        },
        "id": "2qv8Qv_kWsOS",
        "outputId": "d96fc542-eab1-4d3a-fc5d-45ea67dced85"
      },
      "execution_count": null,
      "outputs": [
        {
          "output_type": "stream",
          "name": "stdout",
          "text": [
            "[10, 20, 20, 30, 40, 94, 29, 90, 80]\n",
            "[10, 40, 20, 30, 40, 94, 29, 90, 80]\n"
          ]
        }
      ]
    },
    {
      "cell_type": "code",
      "source": [
        "lst=[10,20,20,30,40,94,29,90,80]\n",
        "print(lst)\n",
        "for i in range(len(lst)-1,-1,-1):\n",
        "  if lst[i]==20:\n",
        "    lst[i]=40\n",
        "    break\n",
        "print(lst)"
      ],
      "metadata": {
        "colab": {
          "base_uri": "https://localhost:8080/"
        },
        "id": "QRL2yT22WsUP",
        "outputId": "cd1f22cd-1308-496a-9a0c-0e51585682c2"
      },
      "execution_count": null,
      "outputs": [
        {
          "output_type": "stream",
          "name": "stdout",
          "text": [
            "[10, 20, 20, 30, 40, 94, 29, 90, 80]\n",
            "[10, 20, 40, 30, 40, 94, 29, 90, 80]\n"
          ]
        }
      ]
    },
    {
      "cell_type": "code",
      "source": [],
      "metadata": {
        "id": "s6kfrZHsWsW3"
      },
      "execution_count": null,
      "outputs": []
    },
    {
      "cell_type": "markdown",
      "source": [
        "# **Day 3**"
      ],
      "metadata": {
        "id": "Z2qCEWNZPWym"
      }
    },
    {
      "cell_type": "markdown",
      "source": [
        "# **tuple**"
      ],
      "metadata": {
        "id": "A5u71mXJPbIV"
      }
    },
    {
      "cell_type": "code",
      "source": [
        "duplicated alloow== ,tuple((),list[]\n",
        "no duplicat allow == set{},dict{}\n"
      ],
      "metadata": {
        "id": "UfO5ezgVWsaV"
      },
      "execution_count": null,
      "outputs": []
    },
    {
      "cell_type": "markdown",
      "source": [
        "# **fuction**"
      ],
      "metadata": {
        "id": "lhrCWcD5Pyji"
      }
    },
    {
      "cell_type": "code",
      "source": [
        "1)built in function  / pre define function\n",
        "2)user define function==== default fuction/ without parameter and parameterised function"
      ],
      "metadata": {
        "id": "aIOC_6KfPU9V"
      },
      "execution_count": null,
      "outputs": []
    },
    {
      "cell_type": "code",
      "source": [
        "example of built in fuction == min ,max,"
      ],
      "metadata": {
        "id": "7suc6cjoPVAV"
      },
      "execution_count": null,
      "outputs": []
    },
    {
      "cell_type": "code",
      "source": [
        "def show():\n",
        "  print(\"hello world\")\n",
        "  show()"
      ],
      "metadata": {
        "colab": {
          "base_uri": "https://localhost:8080/"
        },
        "id": "DoLx5F80PVDL",
        "outputId": "43c4909d-7e12-456f-dd92-334dfa6e568d"
      },
      "execution_count": null,
      "outputs": [
        {
          "output_type": "stream",
          "name": "stdout",
          "text": [
            "hello world\n"
          ]
        }
      ]
    },
    {
      "cell_type": "code",
      "source": [
        "def show(a,b):\n",
        "  print(a+b)\n",
        "a=int(input(\"enter a : \"))\n",
        "b=int(input(\"enter b : \"))\n",
        "show(a,b)"
      ],
      "metadata": {
        "colab": {
          "base_uri": "https://localhost:8080/"
        },
        "id": "dUDeRY_ePVGJ",
        "outputId": "4743b33f-d725-430a-e97d-f05a6d9a2982"
      },
      "execution_count": null,
      "outputs": [
        {
          "output_type": "stream",
          "name": "stdout",
          "text": [
            "enter a : 4\n",
            "enter b : 2\n",
            "6\n"
          ]
        }
      ]
    },
    {
      "cell_type": "code",
      "source": [
        "#write a fuction to find the maximum and minimum element in an array\n",
        "def show(arr):\n",
        "  arr=[5,3,9,2,8]\n",
        "  for i in range(1,len(arr)):\n",
        "    if arr[i]>max:\n",
        "      max=arr[i]\n",
        "    elif arr[i]<min:\n",
        "      min=arr\n",
        "  print(\"maximum\",max)\n",
        "  print(\"minimum\",min)\n"
      ],
      "metadata": {
        "id": "coaRDF5PPVJB"
      },
      "execution_count": null,
      "outputs": []
    },
    {
      "cell_type": "code",
      "source": [
        "#find second largest element in an array input [7,3,9,2,8 ]and output 8\n",
        "def find_second_largest(arr):\n",
        "    largest = max(arr[0], arr[1])\n",
        "    second_largest = min(arr[0], arr[1])\n",
        "    for i in range(2, len(arr)):\n",
        "        if   arr[i] > largest:\n",
        "            second_largest = largest\n",
        "            largest = arr[i]\n",
        "        elif arr[i] > second_largest and arr[i] != largest:\n",
        "            second_largest = arr[i]\n",
        "\n",
        "    return second_largest\n",
        "# Example usage\n",
        "arr = [7, 3, 9, 2, 8]\n",
        "second_largest_element = find_second_largest(arr)\n",
        "print(\"Second largest element:\", second_largest_element)"
      ],
      "metadata": {
        "colab": {
          "base_uri": "https://localhost:8080/"
        },
        "id": "69ObSK99PVOs",
        "outputId": "3b29695a-be46-4065-8367-0a67da56ee2d"
      },
      "execution_count": null,
      "outputs": [
        {
          "output_type": "stream",
          "name": "stdout",
          "text": [
            "Second largest element: 8\n"
          ]
        }
      ]
    },
    {
      "cell_type": "code",
      "source": [
        "arr.sort()"
      ],
      "metadata": {
        "id": "l46jEfevPVUb"
      },
      "execution_count": null,
      "outputs": []
    },
    {
      "cell_type": "code",
      "source": [
        "def find_second_largest(arr):\n",
        "    arr.sort()\n",
        "    if len(arr) < 2:\n",
        "        return None  # Handle cases with less than two elements\n",
        "    return arr[-2]\n",
        "\n",
        "# Example usage\n",
        "arr = [7, 3, 9, 2, 8]\n",
        "second_largest = find_second_largest(arr)\n",
        "print(second_largest)"
      ],
      "metadata": {
        "colab": {
          "base_uri": "https://localhost:8080/"
        },
        "id": "ToXIa4ikVoXC",
        "outputId": "e957493a-36f4-42f3-ccff-1aca635f5b04"
      },
      "execution_count": null,
      "outputs": [
        {
          "output_type": "stream",
          "name": "stdout",
          "text": [
            "8\n"
          ]
        }
      ]
    },
    {
      "cell_type": "markdown",
      "source": [
        "remove duplicate from unsorted array:\n",
        "write a fuction to remove duplicated from an unsorted array and return a new array with"
      ],
      "metadata": {
        "id": "6joJ55QRXNAg"
      }
    },
    {
      "cell_type": "code",
      "source": [],
      "metadata": {
        "id": "E5fBJSg5Vog2"
      },
      "execution_count": null,
      "outputs": []
    },
    {
      "cell_type": "code",
      "source": [
        "def remove_duplicates(arr):\n",
        "    u_l = [3,2,3,1,2,4]\n",
        "    n_l = []\n",
        "    for i in u_l:\n",
        "        if i not in n_l:\n",
        "            n_l.append(i)\n",
        "    return n_l\n",
        "\n",
        "result = remove_duplicates([3,2,3,1,2,4])\n",
        "print(result)"
      ],
      "metadata": {
        "colab": {
          "base_uri": "https://localhost:8080/"
        },
        "id": "sfTQ8qI1Vono",
        "outputId": "86ee3d41-f74c-4048-dc42-612f30107587"
      },
      "execution_count": null,
      "outputs": [
        {
          "output_type": "stream",
          "name": "stdout",
          "text": [
            "[3, 2, 1, 4]\n"
          ]
        }
      ]
    },
    {
      "cell_type": "markdown",
      "source": [
        "find the missing number in array\n",
        "# given an array containing n distint number taken from 1,2,.....n, find the one that is missing  from the array"
      ],
      "metadata": {
        "id": "uGaYCaYdZn1b"
      }
    },
    {
      "cell_type": "code",
      "source": [
        "  def find_missing_number(nums):\n",
        "    n = len(nums)\n",
        "    expected_sum = n * (n + 1) // 2\n",
        "    actual_sum = sum(nums)\n",
        "    missing_number = expected_sum - actual_sum\n",
        "    return missing_number\n",
        "  nums = [0,1,3,5]\n",
        "  missing_number = find_missing_number(nums)\n",
        "  print(missing_number)"
      ],
      "metadata": {
        "colab": {
          "base_uri": "https://localhost:8080/"
        },
        "id": "x9OvYbMuVoro",
        "outputId": "a541b264-d030-4766-cdae-3045e1ec3b85"
      },
      "execution_count": null,
      "outputs": [
        {
          "output_type": "stream",
          "name": "stdout",
          "text": [
            "1\n"
          ]
        }
      ]
    },
    {
      "cell_type": "code",
      "source": [
        "  def find_missing_number(arr):\n",
        "    n = len(arr)\n",
        "    expected_sum = n * (n + 1) // 2\n",
        "    actual_sum = sum(arr)\n",
        "    missing_number = expected_sum - actual_sum\n",
        "    return missing_number\n",
        "  arr = [0,1,3]\n",
        "  missing_number = find_missing_number(arr)\n",
        "  print(missing_number)"
      ],
      "metadata": {
        "colab": {
          "base_uri": "https://localhost:8080/"
        },
        "id": "Dh39xgQIcDuM",
        "outputId": "3fb6b3df-bfb5-4796-b21b-410155696e1c"
      },
      "execution_count": null,
      "outputs": [
        {
          "output_type": "stream",
          "name": "stdout",
          "text": [
            "2\n"
          ]
        }
      ]
    },
    {
      "cell_type": "code",
      "source": [
        "for i in range(0,6):\n",
        "  i*(i+1)//2\n",
        "  print(i)"
      ],
      "metadata": {
        "colab": {
          "base_uri": "https://localhost:8080/"
        },
        "id": "N6k3S435VovP",
        "outputId": "c344f935-ebd1-483e-cf11-2967a7e8a40e"
      },
      "execution_count": null,
      "outputs": [
        {
          "output_type": "stream",
          "name": "stdout",
          "text": [
            "0\n",
            "1\n",
            "2\n",
            "3\n",
            "4\n",
            "5\n"
          ]
        }
      ]
    },
    {
      "cell_type": "code",
      "source": [
        "def find_missing_number(arr):\n",
        "    n = len(arr)\n",
        "    expected_sum = n * (n + 1) // 2\n",
        "    actual_sum = 0\n",
        "    for num in arr:\n",
        "      actual_sum += num\n",
        "      missing_number = expected_sum - actual_sum\n",
        "    return missing_number\n",
        "\n",
        "arr = [0, 1, 3,4]\n",
        "missing_number = find_missing_number(arr)\n",
        "print(missing_number)\n"
      ],
      "metadata": {
        "colab": {
          "base_uri": "https://localhost:8080/"
        },
        "id": "1tCxYODgPVat",
        "outputId": "d84da83a-86e7-4955-ffe8-fb1c44b711e6"
      },
      "execution_count": null,
      "outputs": [
        {
          "output_type": "stream",
          "name": "stdout",
          "text": [
            "2\n"
          ]
        }
      ]
    },
    {
      "cell_type": "code",
      "source": [
        "lst1=['m','na','i','kh']\n",
        "lst2=['e','na','t','sh']\n",
        "lst3=[]\n",
        "for i in range(len(lst1)):\n",
        "  lst3.append(lst1[i]+lst2[i])\n",
        "print(lst3)"
      ],
      "metadata": {
        "colab": {
          "base_uri": "https://localhost:8080/"
        },
        "id": "iVCcqBmudyAj",
        "outputId": "1be0bad6-2303-4cf7-c8fa-1d5b6479748b"
      },
      "execution_count": null,
      "outputs": [
        {
          "output_type": "stream",
          "name": "stdout",
          "text": [
            "['me', 'nana', 'it', 'khsh']\n"
          ]
        }
      ]
    },
    {
      "cell_type": "markdown",
      "source": [
        "### intersection of two array\n",
        "# find the intersection of two array"
      ],
      "metadata": {
        "id": "-JZZouBigcGF"
      }
    },
    {
      "cell_type": "code",
      "source": [
        "#intersection of two array\n",
        "\n",
        "\n",
        "def find_intersection_two_array(arr):\n",
        "  n=len(arr)\n",
        "  for i in range(n):\n",
        "    for j in range(i+1,n):\n",
        "      if arr[i]==arr[j]:\n",
        "        print(arr[i])\n",
        "arr1= [1,2,2,1]\n",
        "arr2=[2,2]\n",
        "find_intersection_two_array(arr)\n",
        "\n"
      ],
      "metadata": {
        "id": "ZOraRnrUe5UP"
      },
      "execution_count": null,
      "outputs": []
    },
    {
      "cell_type": "code",
      "source": [
        "def find_intersection_two_array(arr1,arr2):\n",
        "  n=len(arr1)\n",
        "  m=len(arr2)\n",
        "  for i in range(n):\n",
        "    for j in range(m):\n",
        "      if arr1[i]==arr2[j]:\n",
        "        print(arr1[i])\n",
        "arr1= [1,2,2,1]\n",
        "arr2=[2,2]\n",
        "intersection = find_intersection_two_array(arr1, arr2)\n",
        "print(intersection)\n"
      ],
      "metadata": {
        "colab": {
          "base_uri": "https://localhost:8080/"
        },
        "id": "mvUvLn6me5XM",
        "outputId": "d4da5a20-e9d3-4cd9-aef1-8161b56af4eb"
      },
      "execution_count": null,
      "outputs": [
        {
          "output_type": "stream",
          "name": "stdout",
          "text": [
            "2\n",
            "2\n",
            "2\n",
            "2\n",
            "None\n"
          ]
        }
      ]
    },
    {
      "cell_type": "code",
      "source": [
        "def find_intersection_two_array(arr1, arr2):\n",
        "    intersection = []\n",
        "    for i in arr1:\n",
        "        if i in arr2 and i not in intersection:\n",
        "            intersection.append(i)\n",
        "    return intersection\n",
        "\n",
        "arr1 = [1, 2, 2, 1]\n",
        "arr2 = [2, 2]\n",
        "intersection = find_intersection_two_array(arr1, arr2)\n",
        "intersection"
      ],
      "metadata": {
        "colab": {
          "base_uri": "https://localhost:8080/"
        },
        "id": "rL7YZrkqe5g3",
        "outputId": "229203e6-e442-4f28-9e8f-4000240214be"
      },
      "execution_count": null,
      "outputs": [
        {
          "output_type": "execute_result",
          "data": {
            "text/plain": [
              "[2]"
            ]
          },
          "metadata": {},
          "execution_count": 61
        }
      ]
    },
    {
      "cell_type": "markdown",
      "source": [
        "# array rotation -- rotate an array to the right by a given number"
      ],
      "metadata": {
        "id": "oLAGbBraiyli"
      }
    },
    {
      "cell_type": "code",
      "source": [],
      "metadata": {
        "id": "zeODbAgXl2KV"
      },
      "execution_count": null,
      "outputs": []
    },
    {
      "cell_type": "code",
      "source": [],
      "metadata": {
        "id": "_PIgdgLdl2Ho"
      },
      "execution_count": null,
      "outputs": []
    },
    {
      "cell_type": "code",
      "source": [],
      "metadata": {
        "id": "UEJ0tdull2Ep"
      },
      "execution_count": null,
      "outputs": []
    },
    {
      "cell_type": "code",
      "source": [
        "def is_leap(year):\n",
        "  leap = False\n",
        "  if year % 400 == 0:\n",
        "    leap = True\n",
        "  return leap\n",
        "l_p = is_leap(2000)\n",
        "print(l_p)"
      ],
      "metadata": {
        "colab": {
          "base_uri": "https://localhost:8080/"
        },
        "id": "aWQe_Di8e5nF",
        "outputId": "eb27a80e-f814-4c47-c364-218b2cb91e3b"
      },
      "execution_count": null,
      "outputs": [
        {
          "output_type": "stream",
          "name": "stdout",
          "text": [
            "True\n"
          ]
        }
      ]
    },
    {
      "cell_type": "markdown",
      "source": [
        "# **find themajority element:- find the majority element (element that eppend n/2 times)in an arry**"
      ],
      "metadata": {
        "id": "g3tTRptopCFq"
      }
    },
    {
      "cell_type": "code",
      "source": [
        "# prompt: find themajority element:- find the majority element (element that eppend n/2 times)in an arry\n",
        "\n",
        "def find_majority_element(nums):\n",
        "    \"\"\"\n",
        "    Finds the majority element in an array.\n",
        "\n",
        "    Args:\n",
        "        nums: A list of numbers.\n",
        "\n",
        "    Returns:\n",
        "        The majority element if it exists, otherwise None.\n",
        "    \"\"\"\n",
        "    counts = {}\n",
        "    for num in nums:\n",
        "        counts[num] = counts.get(num, 0) + 1\n",
        "\n",
        "    n = len(nums)\n",
        "    for num, count in counts.items():\n",
        "        if count > n // 2:\n",
        "            return num\n",
        "    return None  # No majority element found\n",
        "\n",
        "# Example usage\n",
        "nums = [2, 2, 1, 1, 1, 2, 2]\n",
        "majority_element = find_majority_element(nums)\n",
        "print(f\"Majority element: {majority_element}\")\n",
        "\n",
        "nums = [1, 2, 3, 4, 5]\n",
        "majority_element = find_majority_element(nums)\n",
        "print(f\"Majority element: {majority_element}\")"
      ],
      "metadata": {
        "id": "e0aye4pte5pj"
      },
      "execution_count": null,
      "outputs": []
    },
    {
      "cell_type": "code",
      "source": [
        "def find_majority_element(nums):\n",
        "    counts = {}\n",
        "    for num in nums:\n",
        "        counts[num] = counts.get(num, 0) + 1\n",
        "        if counts[num] > len(nums) // 2:\n",
        "            return num\n",
        "\n",
        "    nums = [3,3,4,2,4,4,2,4,4]\n",
        "majority_element = find_majority_element(nums)\n",
        "print(f\"Majority element: {majority_element}\")\n"
      ],
      "metadata": {
        "id": "iaI52Vp3e5sl",
        "colab": {
          "base_uri": "https://localhost:8080/"
        },
        "outputId": "f1f38be9-54cd-420e-e9db-95ecc9a325e3"
      },
      "execution_count": null,
      "outputs": [
        {
          "output_type": "stream",
          "name": "stdout",
          "text": [
            "Majority element: None\n"
          ]
        }
      ]
    },
    {
      "cell_type": "code",
      "source": [
        "def find_majority_element(nums):\n",
        "    counts = {}\n",
        "    for i in nums:\n",
        "        counts[i] = counts.get(i, 0) + 1\n",
        "        if counts[i] > len(nums) // 2:\n",
        "            return i\n",
        "    return None\n",
        "\n",
        "nums = [3,3,4,2,4,4,2,4,4]\n",
        "majority_element = find_majority_element(nums)\n",
        "print(f\"Majority element: {majority_element}\")"
      ],
      "metadata": {
        "id": "vZ6BAuf8e53d",
        "colab": {
          "base_uri": "https://localhost:8080/"
        },
        "outputId": "fc9e6266-28a5-4643-93d9-6795a6cc52cd"
      },
      "execution_count": null,
      "outputs": [
        {
          "output_type": "stream",
          "name": "stdout",
          "text": [
            "Majority element: 4\n"
          ]
        }
      ]
    },
    {
      "cell_type": "code",
      "source": [
        "nums = [3,3,4,2,4,4,2,4,4]\n",
        "nums.sort()\n",
        "candidate= nums[len(nums)//2]\n",
        "count=nums.count(candidate)\n",
        "if count>len(nums)//2:\n",
        "  print(\"majority element\",candidate)\n",
        "\n",
        "else:\n",
        "  print(\"no majority element\")\n"
      ],
      "metadata": {
        "colab": {
          "base_uri": "https://localhost:8080/"
        },
        "id": "iRZmMYBirLY2",
        "outputId": "ee0c4f0a-a136-4057-fffa-bb37d7767377"
      },
      "execution_count": null,
      "outputs": [
        {
          "output_type": "stream",
          "name": "stdout",
          "text": [
            "majority element 4\n"
          ]
        }
      ]
    },
    {
      "cell_type": "markdown",
      "source": [
        "# product of array except self:- given an array return an array where  each element product of all the"
      ],
      "metadata": {
        "id": "8rDj8ntztfdb"
      }
    },
    {
      "cell_type": "code",
      "source": [
        "arr=[1,2,3,4]\n",
        "n=len(arr)\n",
        "output=[1]*n\n",
        "product=1\n",
        "for i in range(n):\n",
        "  output[i]=product\n",
        "  product*=arr[i]\n",
        "product=1\n",
        "for i in range(n-1,-1,-1):\n",
        "  output[i]*=product\n",
        "  product*=arr[i]\n",
        "print(output)\n"
      ],
      "metadata": {
        "colab": {
          "base_uri": "https://localhost:8080/"
        },
        "id": "_4luAK1WrLVP",
        "outputId": "72885dc7-f3c8-44d2-b2ea-3df0ea7b1bf1"
      },
      "execution_count": null,
      "outputs": [
        {
          "output_type": "stream",
          "name": "stdout",
          "text": [
            "[24, 12, 8, 6]\n"
          ]
        }
      ]
    },
    {
      "cell_type": "code",
      "source": [
        "# prompt: arr=[1,2,3,4]\n",
        "# n=len(arr)\n",
        "# output=[1]*n\n",
        "# product=1\n",
        "# for i in range(n):\n",
        "#   output[i]=product\n",
        "#   product*=arr[i]\n",
        "# product=1\n",
        "# for i in range(n-1,-1,-1):\n",
        "#   output[i]*=product\n",
        "#   product*=arr[i]\n",
        "# print(output).give me this code with diffe easy logic\n",
        "\n",
        "def product_except_self(arr):\n",
        "    n = len(arr)\n",
        "    output = [1] * n\n",
        "\n",
        "    # Calculate prefix products\n",
        "    prefix_product = 1\n",
        "    for i in range(n):\n",
        "        output[i] = prefix_product\n",
        "        prefix_product *= arr[i]\n",
        "\n",
        "    # Calculate suffix products and multiply with prefix products\n",
        "    suffix_product = 1\n",
        "    for i in range(n - 1, -1, -1):\n",
        "        output[i] *= suffix_product\n",
        "        suffix_product *= arr[i]\n",
        "\n",
        "    return output\n",
        "\n",
        "arr = [1, 2, 3, 4]\n",
        "result = product_except_self(arr)\n",
        "print(result) # Output: [24, 12, 8, 6]"
      ],
      "metadata": {
        "id": "D2S6YdbCrLNU"
      },
      "execution_count": null,
      "outputs": []
    },
    {
      "cell_type": "markdown",
      "source": [
        "# move zeroes to the end :- given an array , move all the zeros to the end and changnnig the  order of non- zero element"
      ],
      "metadata": {
        "id": "c7KmuuZNw29m"
      }
    },
    {
      "cell_type": "code",
      "source": [
        "arr =[0,1,0,3,12]\n",
        "n=len(arr)\n",
        "count=0\n",
        "for i in range(n):\n",
        "  if arr[i]!=0:\n",
        "    arr[count]=arr[i]\n",
        "    count+=1\n",
        "for i in range(count,n):\n",
        "  arr[i]=0\n",
        "  print(arr)"
      ],
      "metadata": {
        "colab": {
          "base_uri": "https://localhost:8080/"
        },
        "id": "YS2Gz1m7rLGp",
        "outputId": "ce23cb96-c3bd-4be0-edb1-60a661629cf3"
      },
      "execution_count": null,
      "outputs": [
        {
          "output_type": "stream",
          "name": "stdout",
          "text": [
            "[1, 3, 12, 0, 12]\n",
            "[1, 3, 12, 0, 0]\n"
          ]
        }
      ]
    },
    {
      "cell_type": "code",
      "source": [
        "def move_zero_to_end(arr):\n",
        "    n = len(arr)\n",
        "    count = 0\n",
        "    for i in range(n):\n",
        "        if arr[i] != 0:\n",
        "            arr[count] = arr[i]\n",
        "            count += 1\n",
        "    arr = [0, 1, 0, 3, 12]\n",
        "result = move_zero_to_end(arr)\n",
        "print(result)\n"
      ],
      "metadata": {
        "colab": {
          "base_uri": "https://localhost:8080/"
        },
        "id": "RfrKPfBVrLDm",
        "outputId": "f081e007-24a0-4af7-8319-d4fcc48fb4a4"
      },
      "execution_count": null,
      "outputs": [
        {
          "output_type": "stream",
          "name": "stdout",
          "text": [
            "None\n",
            "None\n"
          ]
        }
      ]
    },
    {
      "cell_type": "markdown",
      "source": [
        "# find te third largest element in a list-- write a fuction to find the 3rd largest elementt in a lis"
      ],
      "metadata": {
        "id": "OjNyj5nNGG_B"
      }
    },
    {
      "cell_type": "code",
      "source": [
        "# prompt: find te third largest element in a list-- write a function to find the 3rd largest element in a list\n",
        "\n",
        "def find_third_largest(arr):\n",
        "    \"\"\"\n",
        "    Finds the third largest element in a list.\n",
        "\n",
        "    Args:\n",
        "        arr: A list of numbers.\n",
        "\n",
        "    Returns:\n",
        "        The third largest element in the list, or None if the list has fewer than three elements.\n",
        "    \"\"\"\n",
        "    if len(arr) < 3:\n",
        "        return None  # Handle cases with fewer than three elements\n",
        "\n",
        "    unique_elements = sorted(list(set(arr)), reverse=True)  # Remove duplicates and sort in descending order\n",
        "\n",
        "    if len(unique_elements) >= 3:\n",
        "        return unique_elements[2]\n",
        "    else:\n",
        "        return unique_elements[-1] # Return the largest if less than 3 unique elements\n",
        "\n",
        "# Example usage\n",
        "my_list = [10, 5, 20, 15, 10, 25, 5]\n",
        "third_largest = find_third_largest(my_list)\n",
        "print(f\"The third largest element is: {third_largest}\")\n",
        "\n",
        "my_list = [1,2]\n",
        "third_largest = find_third_largest(my_list)\n",
        "print(f\"The third largest element is: {third_largest}\")"
      ],
      "metadata": {
        "id": "3_uP2oxzGr-h"
      },
      "execution_count": null,
      "outputs": []
    },
    {
      "cell_type": "code",
      "source": [
        "  unique_elements = sorted(list(set(arr)), reverse=True)  # Remove duplicates and sort in descending order\n",
        "\n",
        "    if len(unique_elements) >= 3:\n",
        "        return unique_elements[2]\n",
        "    else:\n",
        "        return unique_elements[-1]\n",
        "my_list = [10, 5, 20, 15, 10, 25, 5]\n",
        "third_largest = find_third_largest(my_list)\n",
        "print(f\"The third largest element is: {third_largest}\")"
      ],
      "metadata": {
        "id": "TZVXQiKsGr7D"
      },
      "execution_count": null,
      "outputs": []
    },
    {
      "cell_type": "code",
      "source": [],
      "metadata": {
        "id": "3hJF5qfoGr4D"
      },
      "execution_count": null,
      "outputs": []
    },
    {
      "cell_type": "code",
      "source": [],
      "metadata": {
        "id": "cWQ_er4JGr02"
      },
      "execution_count": null,
      "outputs": []
    },
    {
      "cell_type": "code",
      "source": [],
      "metadata": {
        "id": "scgtuHmQGrx3"
      },
      "execution_count": null,
      "outputs": []
    },
    {
      "cell_type": "markdown",
      "source": [
        "# **count negative and positive number in list**"
      ],
      "metadata": {
        "id": "87BeT883GRvf"
      }
    },
    {
      "cell_type": "code",
      "source": [
        "def count_positive_negative(num):\n",
        "    positive_count = 0\n",
        "    negative_count = 0\n",
        "    for i in num:\n",
        "        if i > 0:\n",
        "            positive_count += 1\n",
        "        elif i < 0:\n",
        "            negative_count += 1\n",
        "    return positive_count, negative_count\n",
        "num = [1, -2, 3, 0, -5, 7, -8]\n",
        "positive, negative = count_positive_negative(num)\n",
        "print(f\"Positive numbers: {positive}\")\n",
        "print(f\"Negative numbers: {negative}\")"
      ],
      "metadata": {
        "id": "RwXMjF1irK6N",
        "colab": {
          "base_uri": "https://localhost:8080/"
        },
        "outputId": "be673402-86ad-4bcc-9f2f-aa346539b929"
      },
      "execution_count": 11,
      "outputs": [
        {
          "output_type": "stream",
          "name": "stdout",
          "text": [
            "Positive numbers: 3\n",
            "Negative numbers: 3\n"
          ]
        }
      ]
    },
    {
      "cell_type": "markdown",
      "source": [
        "# find the kth smallest element in a list -- write a fuction to find kth smallest element in a alist. use sorting or selection algorithm to find the kth smallest element"
      ],
      "metadata": {
        "id": "NCCpBMh2HIdc"
      }
    },
    {
      "cell_type": "code",
      "source": [
        "def kth_smallest_(nums,k):\n",
        "   nums.sort()\n",
        "   return nums[k - 1]\n",
        "numbers = [1,3,2,5,6,9]\n",
        "k = 3\n",
        "kth_smallest = find_kth_smallest(numbers, k)\n",
        "\n",
        "if kth_smallest is not None:\n",
        "    print(f\"The {k}th smallest number is: {kth_smallest}\")\n",
        "else:\n",
        "    print(\"Invalid input: k is out of bounds.\")"
      ],
      "metadata": {
        "id": "MTwnjxBorKxL",
        "colab": {
          "base_uri": "https://localhost:8080/"
        },
        "outputId": "5df935fa-13f5-4bea-e4ab-a8657017c95b"
      },
      "execution_count": 10,
      "outputs": [
        {
          "output_type": "stream",
          "name": "stdout",
          "text": [
            "The 3th smallest number is: 3\n"
          ]
        }
      ]
    },
    {
      "cell_type": "code",
      "source": [],
      "metadata": {
        "id": "dDD0lgqarKuK"
      },
      "execution_count": null,
      "outputs": []
    },
    {
      "cell_type": "code",
      "source": [],
      "metadata": {
        "id": "rIomcG1IIxA6"
      },
      "execution_count": null,
      "outputs": []
    },
    {
      "cell_type": "code",
      "source": [],
      "metadata": {
        "id": "JD7o3KljIw9q"
      },
      "execution_count": null,
      "outputs": []
    },
    {
      "cell_type": "code",
      "source": [],
      "metadata": {
        "id": "AYBJFgkUIw6t"
      },
      "execution_count": null,
      "outputs": []
    },
    {
      "cell_type": "code",
      "source": [],
      "metadata": {
        "id": "CP7qD8LJIw3W"
      },
      "execution_count": null,
      "outputs": []
    },
    {
      "cell_type": "code",
      "source": [],
      "metadata": {
        "id": "IrpQsT4hIw0a"
      },
      "execution_count": null,
      "outputs": []
    },
    {
      "cell_type": "code",
      "source": [],
      "metadata": {
        "id": "ynlxUB1wIwxE"
      },
      "execution_count": null,
      "outputs": []
    },
    {
      "cell_type": "code",
      "source": [],
      "metadata": {
        "id": "ZKYatMd1Iwt-"
      },
      "execution_count": null,
      "outputs": []
    },
    {
      "cell_type": "code",
      "source": [],
      "metadata": {
        "id": "wBIeepWEIwqS"
      },
      "execution_count": null,
      "outputs": []
    },
    {
      "cell_type": "code",
      "source": [],
      "metadata": {
        "id": "5UCnGHGNIwny"
      },
      "execution_count": null,
      "outputs": []
    },
    {
      "cell_type": "code",
      "source": [],
      "metadata": {
        "id": "uws2FZsWIwlA"
      },
      "execution_count": null,
      "outputs": []
    },
    {
      "cell_type": "code",
      "source": [],
      "metadata": {
        "id": "Bf4nRrcFIwhw"
      },
      "execution_count": null,
      "outputs": []
    }
  ]
}